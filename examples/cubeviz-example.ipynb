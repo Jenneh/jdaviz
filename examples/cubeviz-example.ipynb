{
 "cells": [
  {
   "cell_type": "code",
   "execution_count": null,
   "metadata": {
    "scrolled": true
   },
   "outputs": [],
   "source": [
    "from IPython.core.display import display, HTML\n",
    "display(HTML(\"<style>.container { width:100% !important; }</style>\"))\n",
    "\n",
    "import ipyvuetify as v"
   ]
  },
  {
   "cell_type": "markdown",
   "metadata": {},
   "source": [
    "## CubeViz Example"
   ]
  },
  {
   "cell_type": "code",
   "execution_count": null,
   "metadata": {},
   "outputs": [],
   "source": [
    "url = 'https://dr15.sdss.org/sas/dr15/manga/spectro/redux/v2_4_3/7495/stack/manga-7495-12704-LOGCUBE.fits.gz'\n",
    "filename = url.split('/')[-1]\n",
    "if filename.endswith('.gz'):\n",
    "    ungz_filename = filename[:-3]"
   ]
  },
  {
   "cell_type": "code",
   "execution_count": null,
   "metadata": {},
   "outputs": [],
   "source": [
    "import os\n",
    "from urllib.request import urlretrieve\n",
    "\n",
    "if os.path.isfile(ungz_filename):\n",
    "    print(\"Ungzipped version of file\", filename, 'present, using that')\n",
    "    filename = ungz_filename\n",
    "elif os.path.isfile(filename):\n",
    "    print(\"File\", filename, 'already downloaded')\n",
    "else:\n",
    "    try:\n",
    "        import tqdm\n",
    "        with tqdm.tqdm_notebook(unit='B', unit_scale=True) as t:\n",
    "            def reporthook(blocknum, readsize, totalsize):\n",
    "                if blocknum %100 == 0:\n",
    "                    t.total = totalsize\n",
    "                    t.n = blocknum*readsize\n",
    "                    t.display()\n",
    "            urlretrieve(url, filename, reporthook)\n",
    "            t.n =  t.total\n",
    "    except ImportError:\n",
    "        urlretrieve(url, filename)\n",
    "    print(\"Downloaded\", filename)"
   ]
  },
  {
   "cell_type": "markdown",
   "metadata": {},
   "source": [
    "### Create the VizApp for state information"
   ]
  },
  {
   "cell_type": "code",
   "execution_count": null,
   "metadata": {},
   "outputs": [],
   "source": [
    "from jdaviz.vizcomponents.applications import cubeviz\n",
    "from jdaviz.vizcomponents.vizapp import VizApp\n",
    "vizapp = VizApp()"
   ]
  },
  {
   "cell_type": "markdown",
   "metadata": {},
   "source": [
    "### Create CubeViz and Show"
   ]
  },
  {
   "cell_type": "code",
   "execution_count": null,
   "metadata": {
    "scrolled": false
   },
   "outputs": [],
   "source": [
    "# it turns out this file has incorrect units in its wcs.  So we fix up the WCS manually... which we can do in the notebook for this particular dataset!\n",
    "def process_data(cv):\n",
    "    w = cv._vizapp._glue_app.data_collection[0].coords.wcs\n",
    "    w.wcs.crval[-1]*=1e10\n",
    "    w.wcs.cd[2, 2]*=1e10\n",
    "    repr(w.wcs)\n",
    "    w.world_axis_units[-1] = 'angstrom'"
   ]
  },
  {
   "cell_type": "code",
   "execution_count": null,
   "metadata": {},
   "outputs": [],
   "source": [
    "c = cubeviz.CubeViz(filename, vizapp, process_data=process_data)"
   ]
  },
  {
   "cell_type": "code",
   "execution_count": null,
   "metadata": {
    "scrolled": true
   },
   "outputs": [],
   "source": [
    "c.show()"
   ]
  },
  {
   "cell_type": "markdown",
   "metadata": {},
   "source": [
    "We can manually set the viewer bounds programatically if desired:"
   ]
  },
  {
   "cell_type": "code",
   "execution_count": null,
   "metadata": {},
   "outputs": [],
   "source": [
    "s = c.pviewer._v1d.state\n",
    "s.y_min, s.y_max  = 0, .3\n",
    "s.x_min, s.x_max = 6000, 7500"
   ]
  },
  {
   "cell_type": "markdown",
   "metadata": {},
   "source": [
    "Or we can even do scientific analysis tasks on the selected spectrum:"
   ]
  },
  {
   "cell_type": "code",
   "execution_count": null,
   "metadata": {},
   "outputs": [],
   "source": [
    "from astropy import units as u\n",
    "from specutils import analysis, SpectralRegion, Spectrum1D\n",
    "\n",
    "# get the selection\n",
    "spec = c.pviewer.get_spectrum1D()\n",
    "\n",
    "analysis.centroid(spec, SpectralRegion(6760*u.angstrom, 6790*u.angstrom))"
   ]
  },
  {
   "cell_type": "markdown",
   "metadata": {},
   "source": [
    "This can even be interactive - e.g., this will compute the centroid of the line selected in the profile viewer (although it will be empty if there is no selection):"
   ]
  },
  {
   "cell_type": "code",
   "execution_count": null,
   "metadata": {},
   "outputs": [],
   "source": [
    "pv = c.pviewer\n",
    "analysis.centroid(pv.get_spectrum1D(), pv.get_region())"
   ]
  }
 ],
 "metadata": {
  "kernelspec": {
   "display_name": "Python 3",
   "language": "python",
   "name": "python3"
  },
  "language_info": {
   "codemirror_mode": {
    "name": "ipython",
    "version": 3
   },
   "file_extension": ".py",
   "mimetype": "text/x-python",
   "name": "python",
   "nbconvert_exporter": "python",
   "pygments_lexer": "ipython3",
   "version": "3.7.3"
  }
 },
 "nbformat": 4,
 "nbformat_minor": 2
}
