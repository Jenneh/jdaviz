{
 "cells": [
  {
   "cell_type": "code",
   "execution_count": 1,
   "metadata": {},
   "outputs": [
    {
     "data": {
      "text/html": [
       "<style>.container { width:100% !important; }</style>"
      ],
      "text/plain": [
       "<IPython.core.display.HTML object>"
      ]
     },
     "metadata": {},
     "output_type": "display_data"
    }
   ],
   "source": [
    "from IPython.core.display import display, HTML\n",
    "display(HTML(\"<style>.container { width:100% !important; }</style>\"))\n"
   ]
  },
  {
   "cell_type": "code",
   "execution_count": 2,
   "metadata": {},
   "outputs": [],
   "source": [
    "import ipyvuetify as v"
   ]
  },
  {
   "cell_type": "markdown",
   "metadata": {},
   "source": [
    "## ViewerND Example"
   ]
  },
  {
   "cell_type": "markdown",
   "metadata": {},
   "source": [
    "This is an example method to create a ViewerND object in a Jupyter Notebook.\n",
    "\n",
    "**This is a work in progress and the structure will likely change**"
   ]
  },
  {
   "cell_type": "code",
   "execution_count": 3,
   "metadata": {},
   "outputs": [],
   "source": [
    "filename = 'manga-7495-12704-LOGCUBE_fixed.fits.gz'"
   ]
  },
  {
   "cell_type": "markdown",
   "metadata": {},
   "source": [
    "### Create the VizApp for state information"
   ]
  },
  {
   "cell_type": "code",
   "execution_count": 4,
   "metadata": {},
   "outputs": [],
   "source": [
    "from jdaviz.vizcomponents.viewer import Viewer1D\n",
    "from jdaviz.vizcomponents.vizapp import VizApp\n",
    "vizapp = VizApp()"
   ]
  },
  {
   "cell_type": "code",
   "execution_count": 5,
   "metadata": {},
   "outputs": [
    {
     "name": "stderr",
     "output_type": "stream",
     "text": [
      "WARNING: FITSFixedWarning: PLATEID = 7495 / Current plate \n",
      "a string value was expected. [astropy.wcs.wcs]\n",
      "WARNING:astropy:FITSFixedWarning: PLATEID = 7495 / Current plate \n",
      "a string value was expected.\n"
     ]
    },
    {
     "data": {
      "text/plain": [
       "[[Data (label: manga-7495-12704-LOGCUBE_fixed.fits[FLUX]),\n",
       "  Data (label: manga-7495-12704-LOGCUBE_fixed.fits[IVAR]),\n",
       "  Data (label: manga-7495-12704-LOGCUBE_fixed.fits[MASK]),\n",
       "  Data (label: manga-7495-12704-LOGCUBE_fixed.fits[WAVE]),\n",
       "  Data (label: manga-7495-12704-LOGCUBE_fixed.fits[SPECRES]),\n",
       "  Data (label: manga-7495-12704-LOGCUBE_fixed.fits[SPECRESD]),\n",
       "  Data (label: manga-7495-12704-LOGCUBE_fixed.fits[OBSINFO]),\n",
       "  Data (label: manga-7495-12704-LOGCUBE_fixed.fits[UIMG]),\n",
       "  Data (label: manga-7495-12704-LOGCUBE_fixed.fits[GIMG]),\n",
       "  Data (label: manga-7495-12704-LOGCUBE_fixed.fits[RIMG]),\n",
       "  Data (label: manga-7495-12704-LOGCUBE_fixed.fits[IIMG]),\n",
       "  Data (label: manga-7495-12704-LOGCUBE_fixed.fits[ZIMG]),\n",
       "  Data (label: manga-7495-12704-LOGCUBE_fixed.fits[UPSF]),\n",
       "  Data (label: manga-7495-12704-LOGCUBE_fixed.fits[GPSF]),\n",
       "  Data (label: manga-7495-12704-LOGCUBE_fixed.fits[RPSF]),\n",
       "  Data (label: manga-7495-12704-LOGCUBE_fixed.fits[IPSF]),\n",
       "  Data (label: manga-7495-12704-LOGCUBE_fixed.fits[ZPSF])]]"
      ]
     },
     "execution_count": 5,
     "metadata": {},
     "output_type": "execute_result"
    }
   ],
   "source": [
    "vizapp.glue_app.add_data(filename)"
   ]
  },
  {
   "cell_type": "markdown",
   "metadata": {},
   "source": [
    "### Create ND Viewer and Show"
   ]
  },
  {
   "cell_type": "code",
   "execution_count": 6,
   "metadata": {},
   "outputs": [],
   "source": [
    "vnd = Viewer1D(vizapp)"
   ]
  },
  {
   "cell_type": "code",
   "execution_count": 7,
   "metadata": {},
   "outputs": [
    {
     "data": {
      "application/vnd.jupyter.widget-view+json": {
       "model_id": "a1ec49990bcd48f59bd4a0370f4376f9",
       "version_major": 2,
       "version_minor": 0
      },
      "text/plain": [
       "Layout(children=[VBox(children=(HBox(children=(BasicJupyterToolbar(children=(ToggleButton(children=(Image(valu…"
      ]
     },
     "metadata": {},
     "output_type": "display_data"
    }
   ],
   "source": [
    "vnd.show()"
   ]
  },
  {
   "cell_type": "code",
   "execution_count": 8,
   "metadata": {},
   "outputs": [],
   "source": [
    "out = vnd.show()"
   ]
  },
  {
   "cell_type": "code",
   "execution_count": null,
   "metadata": {},
   "outputs": [],
   "source": []
  },
  {
   "cell_type": "code",
   "execution_count": 10,
   "metadata": {},
   "outputs": [
    {
     "data": {
      "application/vnd.jupyter.widget-view+json": {
       "model_id": "fe109f0f2c09462ba3b202309c2fd814",
       "version_major": 2,
       "version_minor": 0
      },
      "text/plain": [
       "Layout(children=[VBox(children=(HBox(children=(BasicJupyterToolbar(children=(ToggleButton(children=(Image(valu…"
      ]
     },
     "metadata": {},
     "output_type": "display_data"
    }
   ],
   "source": [
    "def on_menu_click(widget, event, data):\n",
    "    if len(layout.children) == 1:\n",
    "        layout.children = layout.children + [info]\n",
    "    info.children=[f'Item {items.index(widget)+1} clicked']\n",
    "    \n",
    "\n",
    "items = [v.ListTile(children=[\n",
    "    v.ListTileTitle(children=[\n",
    "        f'Click me {i}'])]) \n",
    "         for i in range(1, 5)]\n",
    "\n",
    "for item in items:\n",
    "    item.on_event('click', on_menu_click)\n",
    "\n",
    "menu = v.Menu(offset_y=True, children=[\n",
    "    v.Btn(slot='activator', color='primary', children=[\n",
    "        'menu', \n",
    "        v.Icon(right=True, children=[\n",
    "            'arrow_drop_down'\n",
    "        ])\n",
    "    ]),\n",
    "    v.List(children=items)\n",
    "])\n",
    "\n",
    "info = v.Chip()\n",
    "\n",
    "v.Layout(children=[vnd._v1d.main_widget, \n",
    "                   v.Btn(color='primary', children=[v.Icon(left=True, children=['fingerprint']),'Icon left']),\n",
    "                  menu])"
   ]
  },
  {
   "cell_type": "code",
   "execution_count": null,
   "metadata": {},
   "outputs": [],
   "source": []
  },
  {
   "cell_type": "code",
   "execution_count": null,
   "metadata": {},
   "outputs": [],
   "source": []
  },
  {
   "cell_type": "code",
   "execution_count": null,
   "metadata": {},
   "outputs": [],
   "source": []
  },
  {
   "cell_type": "code",
   "execution_count": null,
   "metadata": {},
   "outputs": [],
   "source": []
  }
 ],
 "metadata": {
  "kernelspec": {
   "display_name": "Python 3",
   "language": "python",
   "name": "python3"
  },
  "language_info": {
   "codemirror_mode": {
    "name": "ipython",
    "version": 3
   },
   "file_extension": ".py",
   "mimetype": "text/x-python",
   "name": "python",
   "nbconvert_exporter": "python",
   "pygments_lexer": "ipython3",
   "version": "3.6.8"
  }
 },
 "nbformat": 4,
 "nbformat_minor": 2
}
