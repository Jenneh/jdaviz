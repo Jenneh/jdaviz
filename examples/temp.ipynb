{
 "cells": [
  {
   "cell_type": "code",
   "execution_count": 1,
   "metadata": {},
   "outputs": [
    {
     "name": "stdout",
     "output_type": "stream",
     "text": [
      "/Users/busko/Dropbox/mosviz_data/jwst\n",
      "/Users/busko/Dropbox/mosviz_data/jwst/jwst_mosviz.tbl.ORIG\n"
     ]
    }
   ],
   "source": [
    "# testing import and data paths\n",
    "\n",
    "import sys\n",
    "import os\n",
    "\n",
    "import jdaviz\n",
    "\n",
    "os.chdir(\"/Users/busko/Dropbox/mosviz_data/jwst/\")\n",
    "filename = os.path.join(os.getcwd(), 'jwst_mosviz.tbl.ORIG')\n",
    "\n",
    "print(os.getcwd())\n",
    "print(filename)\n"
   ]
  }
 ],
 "metadata": {
  "kernelspec": {
   "display_name": "Python 3",
   "language": "python",
   "name": "python3"
  },
  "language_info": {
   "codemirror_mode": {
    "name": "ipython",
    "version": 3
   },
   "file_extension": ".py",
   "mimetype": "text/x-python",
   "name": "python",
   "nbconvert_exporter": "python",
   "pygments_lexer": "ipython3",
   "version": "3.6.5"
  }
 },
 "nbformat": 4,
 "nbformat_minor": 2
}
