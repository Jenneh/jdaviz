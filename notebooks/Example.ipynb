{
 "cells": [
  {
   "cell_type": "code",
   "execution_count": 1,
   "metadata": {},
   "outputs": [
    {
     "data": {
      "application/vnd.jupyter.widget-view+json": {
       "model_id": "3fb124de2f4949d6ab6ff2000634926b",
       "version_major": 2,
       "version_minor": 0
      },
      "text/plain": "Application(components={'g-viewer-area': ViewerArea(), 'g-tray-area': TrayArea(), 'g-gaussian-smoothing': Gaus…"
     },
     "metadata": {},
     "output_type": "display_data"
    }
   ],
   "source": [
    "from jdaviz.app import Application\n",
    "\n",
    "app = Application(configuration='cubeviz')\n",
    "app"
   ]
  },
  {
   "cell_type": "code",
   "execution_count": null,
   "metadata": {
    "scrolled": false
   },
   "outputs": [],
   "source": [
    "# app.load_data(\"/Users/nearl/data/cubeviz/MaNGA/manga-7495-12704-LOGCUBE.fits\")"
   ]
  },
  {
   "cell_type": "code",
   "execution_count": null,
   "metadata": {},
   "outputs": [],
   "source": []
  }
 ],
 "metadata": {
  "kernelspec": {
   "display_name": "Python 3",
   "language": "python",
   "name": "python3"
  },
  "language_info": {
   "codemirror_mode": {
    "name": "ipython",
    "version": 3
   },
   "file_extension": ".py",
   "mimetype": "text/x-python",
   "name": "python",
   "nbconvert_exporter": "python",
   "pygments_lexer": "ipython3",
   "version": "3.7.6-final"
  }
 },
 "nbformat": 4,
 "nbformat_minor": 4
}