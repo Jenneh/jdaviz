{
 "cells": [
  {
   "cell_type": "code",
   "execution_count": 1,
   "metadata": {
    "scrolled": false
   },
   "outputs": [
    {
     "name": "stdout",
     "output_type": "stream",
     "text": [
      "{'label': 'Image 2D', 'cls': <class 'glue_jupyter.bqplot.image.viewer.BqplotImageView'>}\n"
     ]
    },
    {
     "data": {
      "application/vnd.jupyter.widget-view+json": {
       "model_id": "375f3a4dab9b42658fc6b66e1e1ba88c",
       "version_major": 2,
       "version_minor": 0
      },
      "text/plain": [
       "Application(components={'g-viewer-area': ViewerArea(viewers=[Row(items=[Column(events=['close_tab', 'data_sele…"
      ]
     },
     "metadata": {},
     "output_type": "display_data"
    },
    {
     "name": "stdout",
     "output_type": "stream",
     "text": [
      "manga-7495-12704-LOGCUBE[IVAR]\n",
      "Data Set: manga-7495-12704-LOGCUBE[IVAR]\n",
      "Number of dimensions: 3\n",
      "Shape: 4563 x 74 x 74\n",
      "Main components:\n",
      " - IVAR [1E-17 erg/s/cm^2/Angstrom/spaxel]\n",
      "Coordinate components:\n",
      " - Pixel Axis 0 [z]\n",
      " - Pixel Axis 1 [y]\n",
      " - Pixel Axis 2 [x]\n",
      " - World 0\n",
      " - World 1\n",
      " - World 2\n"
     ]
    }
   ],
   "source": [
    "from jdaviz.app import Application\n",
    "\n",
    "app = Application()\n",
    "app"
   ]
  },
  {
   "cell_type": "code",
   "execution_count": 2,
   "metadata": {
    "scrolled": false
   },
   "outputs": [],
   "source": [
    "# app.components.get('g-viewer-area').viewers"
   ]
  },
  {
   "cell_type": "code",
   "execution_count": 3,
   "metadata": {},
   "outputs": [
    {
     "name": "stderr",
     "output_type": "stream",
     "text": [
      "WARNING: FITSFixedWarning: PLATEID = 7495 / Current plate \n",
      "a string value was expected. [astropy.wcs.wcs]\n",
      "WARNING:astropy:FITSFixedWarning: PLATEID = 7495 / Current plate \n",
      "a string value was expected.\n"
     ]
    }
   ],
   "source": [
    "app.load_data(\"/Users/nearl/data/cubeviz/MaNGA/manga-7495-12704-LOGCUBE.fits\")"
   ]
  },
  {
   "cell_type": "code",
   "execution_count": 4,
   "metadata": {},
   "outputs": [
    {
     "data": {
      "text/plain": [
       "'manga-7495-12704-LOGCUBE[FLUX]'"
      ]
     },
     "execution_count": 4,
     "metadata": {},
     "output_type": "execute_result"
    }
   ],
   "source": [
    "app._application_handler.data_collection[0].label"
   ]
  },
  {
   "cell_type": "code",
   "execution_count": 5,
   "metadata": {
    "scrolled": true
   },
   "outputs": [],
   "source": [
    "# from glue_jupyter.bqplot.profile import BqplotProfileView\n",
    "# from glue_jupyter.bqplot.image import BqplotImageView\n",
    "# from glue_jupyter.app import JupyterApplication\n",
    "# gj = JupyterApplication()\n",
    "# gj.load_data(\"/Users/nearl/data/cubeviz/MaNGA/manga-7495-12704-LOGCUBE.fits\")\n",
    "# profile = gj.new_data_viewer(BqplotProfileView, data=gj.data_collection[0])"
   ]
  },
  {
   "cell_type": "code",
   "execution_count": 6,
   "metadata": {},
   "outputs": [],
   "source": [
    "# image = gj.new_data_viewer(BqplotImageView, data=gj.data_collection[0])"
   ]
  },
  {
   "cell_type": "code",
   "execution_count": 7,
   "metadata": {},
   "outputs": [],
   "source": [
    "# app.components.get('viewer_area').viewers"
   ]
  },
  {
   "cell_type": "code",
   "execution_count": 8,
   "metadata": {},
   "outputs": [],
   "source": [
    "# import ipyvuetify as v\n",
    "# from traitlets import Unicode, List\n",
    "\n",
    "# class TestThing(v.VuetifyTemplate):\n",
    "#     tab = Int(0).tag(sync=True)\n",
    "#     data = List([\n",
    "#         {\n",
    "#         'tab': None,\n",
    "#         'items': [\n",
    "#           'Appetizers', 'Entrees', 'Deserts', 'Cocktails',\n",
    "#         ],\n",
    "#         'text': 'Lorem ipsum dolor sit amet, consectetur adipiscing elit, sed do eiusmod tempor incididunt ut labore et dolore magna aliqua. Ut enim ad minim veniam, quis nostrud exercitation ullamco laboris nisi ut aliquip ex ea commodo consequat.',\n",
    "#       },  \n",
    "#         {\n",
    "#         'tab': None,\n",
    "#         'items': [\n",
    "#           'Appetizers', 'Entrees', 'Deserts', 'Cocktails',\n",
    "#         ],\n",
    "#         'text': 'Lorem ipsum dolor sit amet, consectetur adipiscing elit, sed do eiusmod tempor incididunt ut labore et dolore magna aliqua. Ut enim ad minim veniam, quis nostrud exercitation ullamco laboris nisi ut aliquip ex ea commodo consequat.',\n",
    "#       }\n",
    "#     ]).tag(sync=True)\n",
    "    \n",
    "#     template = Unicode(\"\"\"\n",
    "#     <v-card color=\"basil\">\n",
    "#     <v-card-title class=\"text-center justify-center py-6\">\n",
    "#       <h1 class=\"font-weight-bold display-3 basil--text\">BASiL</h1>\n",
    "#     </v-card-title>\n",
    "\n",
    "#     <v-card v-for=\"x in data\">\n",
    "#     <v-tabs\n",
    "#       v-model=\"x.tab\"\n",
    "#       background-color=\"transparent\"\n",
    "#       color=\"basil\"\n",
    "#       grow\n",
    "#     >\n",
    "#       <v-tab\n",
    "#         v-for=\"item in x.items\"\n",
    "#         :key=\"item\"\n",
    "#       >\n",
    "#         {{ item }}\n",
    "#       </v-tab>\n",
    "\n",
    "#             <v-tabs-items v-model=\"x.tab\">\n",
    "#               <v-tab-item\n",
    "#                 v-for=\"item in x.items\"\n",
    "#                 :key=\"item\"\n",
    "#               >\n",
    "#                 <v-card\n",
    "#                   color=\"basil\"\n",
    "#                   flat\n",
    "#                 >\n",
    "#                   <v-card-text>{{ x.text }}</v-card-text>\n",
    "#                 </v-card>\n",
    "#               </v-tab-item>\n",
    "#             </v-tabs-items>\n",
    "#         </v-tabs>\n",
    "#     </v-card>\n",
    "#   </v-card>\n",
    "#     \"\"\").tag(sync=True)\n",
    "    \n",
    "# TestThing()"
   ]
  },
  {
   "cell_type": "code",
   "execution_count": 9,
   "metadata": {},
   "outputs": [],
   "source": [
    "# import ipyvuetify as v\n",
    "# import ipywidgets as w\n",
    "# from traitlets import Unicode, Any\n",
    "\n",
    "\n",
    "# class TestButton(v.VuetifyTemplate):\n",
    "#     template = Unicode(\"\"\"\n",
    "#     <v-btn>Testing</v-btn>\n",
    "#     \"\"\").tag(sync=True)\n",
    "    \n",
    "    \n",
    "# test_button1 = TestButton()\n",
    "# slider1 = w.IntSlider(description='Slider 1', value=20)\n",
    "    \n",
    "# class TestCard(v.VuetifyTemplate):\n",
    "#     template = Unicode(\"\"\"\n",
    "#     <v-card>\n",
    "#         <jupyter-widget :widget=\"test_button\" />\n",
    "#     </v-card>\n",
    "#     \"\"\").tag(sync=True)\n",
    "    \n",
    "#     test_button = Any(test_button1).tag(sync=True, **w.widget_serialization)\n",
    "    \n",
    "# TestCard()"
   ]
  },
  {
   "cell_type": "code",
   "execution_count": null,
   "metadata": {},
   "outputs": [],
   "source": []
  }
 ],
 "metadata": {
  "kernelspec": {
   "display_name": "Python 3",
   "language": "python",
   "name": "python3"
  },
  "language_info": {
   "codemirror_mode": {
    "name": "ipython",
    "version": 3
   },
   "file_extension": ".py",
   "mimetype": "text/x-python",
   "name": "python",
   "nbconvert_exporter": "python",
   "pygments_lexer": "ipython3",
   "version": "3.7.6"
  }
 },
 "nbformat": 4,
 "nbformat_minor": 4
}
