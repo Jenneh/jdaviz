{
 "cells": [
  {
   "cell_type": "code",
   "execution_count": 1,
   "metadata": {},
   "outputs": [
    {
     "data": {
      "application/vnd.jupyter.widget-view+json": {
       "model_id": "c61eb0336da044f69dbb2c17e134b584",
       "version_major": 2,
       "version_minor": 0
      },
      "text/plain": [
       "Application(components={'g-viewer-area': ViewerArea(events=['close_tab', 'split_pane'], items=[{'title': 'Home…"
      ]
     },
     "metadata": {},
     "output_type": "display_data"
    },
    {
     "name": "stdout",
     "output_type": "stream",
     "text": [
      "VIEWER CREATED\n"
     ]
    }
   ],
   "source": [
    "from jdaviz.app import Application\n",
    "\n",
    "app = Application()\n",
    "app"
   ]
  },
  {
   "cell_type": "code",
   "execution_count": 8,
   "metadata": {},
   "outputs": [
    {
     "data": {
      "text/plain": [
       "[[{'tab': 0,\n",
       "   'items': [{'id': '1', 'title': 'Option', 'widget': None},\n",
       "    {'id': '854a2446-4df6-43cb-9b08-5d68d5f6cedd',\n",
       "     'title': 'TEST',\n",
       "     'widget': Figure(axes=[Axis(grid_lines='none', label='Wave', scale=LinearScale(allow_padding=False, max=1.0353805595182778e-06, min=3.62159598486e-07), side='bottom'), Axis(grid_lines='none', label='y', orientation='vertical', scale=LinearScale(max=24.607844352722168, min=-2.237076759338379), side='left', tick_format='0.2f')], fig_margin={'left': 60, 'bottom': 60, 'top': 10, 'right': 10}, layout=Layout(height='calc(100% - 48px)', width='100%'), marks=[Lines(colors=['#595959'], interactions={'hover': 'tooltip'}, opacities=[0.8], scales={'x': LinearScale(allow_padding=False, max=1.0353805595182778e-06, min=3.62159598486e-07), 'y': LinearScale(max=24.607844352722168, min=-2.237076759338379)}, scales_metadata={'x': {'orientation': 'horizontal', 'dimension': 'x'}, 'y': {'orientation': 'vertical', 'dimension': 'y'}, 'color': {'dimension': 'color'}}, stroke_width=1.0, tooltip_style={'opacity': 0.9}, x=array([3.62159598e-07, 3.62242998e-07, 3.62326418e-07, ...,\n",
       "            1.03490386e-06, 1.03514218e-06, 1.03538056e-06]), y=array([2.1112957 , 0.97454166, 1.18057346, ..., 1.6781491 , 1.64718473,\n",
       "            0.        ]))], padding_y=0.0, scale_x=LinearScale(allow_padding=False, max=1.0, min=0.0), scale_y=LinearScale(allow_padding=False, max=1.0, min=0.0)),\n",
       "     'tools': BasicJupyterToolbar(borderless=True, children=[Tooltip(bottom=True, children=['Interactively pan and zoom around'], v_slots=[{'name': 'activator', 'variable': 'tooltip', 'children': Btn(children=[Image(value=b'<?xml version=\"1.0\" encoding=\"UTF-8\" standalone=\"no\"?>\\n<!-- Created with Inkscape (http://www.inksc...', format='svg+xml', width='20')], icon=True, v_on='tooltip.on', value='bqplot:panzoom')}]), Tooltip(bottom=True, children=['Select a range of x values'], v_slots=[{'name': 'activator', 'variable': 'tooltip', 'children': Btn(children=[Image(value=b'<?xml version=\"1.0\" encoding=\"UTF-8\" standalone=\"no\"?>\\n<!-- Created with Inkscape (http://www.inksc...', format='svg+xml', width='20')], icon=True, v_on='tooltip.on', value='bqplot:xrange')}])], class_='transparent', tile=True, v_model=None),\n",
       "     'layer_options': LayerOptionsWidget(children=(Dropdown(description='Layer', options=(('manga-7495-12704-LOGCUBE[FLUX]', BqplotProfileLayerArtist for manga-7495-12704-LOGCUBE[FLUX]),), value=BqplotProfileLayerArtist for manga-7495-12704-LOGCUBE[FLUX]), ProfileLayerStateWidget(children=(Checkbox(value=True, description='visible'), ColorPicker(value='#595959', description='color'), IntText(value=1, description='line width'), LinkedDropdown(description='attribute', options=(('FLUX', FLUX),), value=FLUX), FloatText(value=0.0, description='vmin'), FloatText(value=22.37076759338379, description='vmax'), LinkedDropdown(description='percentile', options=(('Min/Max', 100), ('99.5%', 99.5), ('99%', 99), ('95%', 95), ('90%', 90), ('Custom', 'Custom')), value=100))))),\n",
       "     'viewer_options': ProfileViewerStateWidget(children=(LinkedDropdown(description='reference', options=(('manga-7495-12704-LOGCUBE[FLUX]', Data (label: manga-7495-12704-LOGCUBE[FLUX])),), value=Data (label: manga-7495-12704-LOGCUBE[FLUX])), LinkedDropdown(description='x axis', index=3, options=(('Pixel Axis 0 [z]', Pixel Axis 0 [z]), ('Pixel Axis 1 [y]', Pixel Axis 1 [y]), ('Pixel Axis 2 [x]', Pixel Axis 2 [x]), ('Wave', Wave), ('Declination', Declination), ('Right Ascension', Right Ascension)), value=Wave), LinkedDropdown(description='function', options=(('Maximum', 'maximum'), ('Minimum', 'minimum'), ('Mean', 'mean'), ('Median', 'median'), ('Sum', 'sum')), value='maximum'), ToggleButton(value=False, description='normalize', tooltip='Normalize profiles'), Checkbox(value=True, description='Show axes'))),\n",
       "     'drawer': False}]},\n",
       "  {'tab': 0,\n",
       "   'items': [{'id': '3', 'title': 'Component', 'widget': None},\n",
       "    {'id': '4', 'title': 'Layout', 'widget': None}]}],\n",
       " [{'tab': 0,\n",
       "   'items': [{'id': '11', 'title': 'Armature', 'widget': None},\n",
       "    {'id': '12', 'title': 'User', 'widget': None}]}]]"
      ]
     },
     "execution_count": 8,
     "metadata": {},
     "output_type": "execute_result"
    }
   ],
   "source": [
    "app.components.get('g-viewer-area').viewers"
   ]
  },
  {
   "cell_type": "code",
   "execution_count": 2,
   "metadata": {},
   "outputs": [
    {
     "name": "stderr",
     "output_type": "stream",
     "text": [
      "WARNING: FITSFixedWarning: PLATEID = 7495 / Current plate \n",
      "a string value was expected. [astropy.wcs.wcs]\n",
      "WARNING:astropy:FITSFixedWarning: PLATEID = 7495 / Current plate \n",
      "a string value was expected.\n"
     ]
    }
   ],
   "source": [
    "app.load_data(\"/Users/nearl/data/cubeviz/MaNGA/manga-7495-12704-LOGCUBE.fits\")"
   ]
  },
  {
   "cell_type": "code",
   "execution_count": 3,
   "metadata": {},
   "outputs": [],
   "source": [
    "# app._application_handler.data_collection[0].label"
   ]
  },
  {
   "cell_type": "code",
   "execution_count": 4,
   "metadata": {
    "scrolled": true
   },
   "outputs": [],
   "source": [
    "# from glue_jupyter.bqplot.profile import BqplotProfileView\n",
    "# from glue_jupyter.bqplot.image import BqplotImageView\n",
    "# from glue_jupyter.app import JupyterApplication\n",
    "# gj = JupyterApplication()\n",
    "# gj.load_data(\"/Users/nearl/data/cubeviz/MaNGA/manga-7495-12704-LOGCUBE.fits\")\n",
    "# profile = gj.new_data_viewer(BqplotProfileView, data=gj.data_collection[0])"
   ]
  },
  {
   "cell_type": "code",
   "execution_count": 5,
   "metadata": {},
   "outputs": [],
   "source": [
    "# image = gj.new_data_viewer(BqplotImageView, data=gj.data_collection[0])"
   ]
  },
  {
   "cell_type": "code",
   "execution_count": 6,
   "metadata": {},
   "outputs": [
    {
     "ename": "AttributeError",
     "evalue": "'NoneType' object has no attribute 'viewers'",
     "output_type": "error",
     "traceback": [
      "\u001b[0;31m---------------------------------------------------------------------------\u001b[0m",
      "\u001b[0;31mAttributeError\u001b[0m                            Traceback (most recent call last)",
      "\u001b[0;32m<ipython-input-6-9331bdab2022>\u001b[0m in \u001b[0;36m<module>\u001b[0;34m\u001b[0m\n\u001b[0;32m----> 1\u001b[0;31m \u001b[0mapp\u001b[0m\u001b[0;34m.\u001b[0m\u001b[0mcomponents\u001b[0m\u001b[0;34m.\u001b[0m\u001b[0mget\u001b[0m\u001b[0;34m(\u001b[0m\u001b[0;34m'viewer_area'\u001b[0m\u001b[0;34m)\u001b[0m\u001b[0;34m.\u001b[0m\u001b[0mviewers\u001b[0m\u001b[0;34m\u001b[0m\u001b[0;34m\u001b[0m\u001b[0m\n\u001b[0m",
      "\u001b[0;31mAttributeError\u001b[0m: 'NoneType' object has no attribute 'viewers'"
     ]
    }
   ],
   "source": [
    "app.components.get('viewer_area').viewers"
   ]
  },
  {
   "cell_type": "code",
   "execution_count": null,
   "metadata": {},
   "outputs": [],
   "source": []
  },
  {
   "cell_type": "code",
   "execution_count": null,
   "metadata": {},
   "outputs": [],
   "source": []
  }
 ],
 "metadata": {
  "kernelspec": {
   "display_name": "Python 3",
   "language": "python",
   "name": "python3"
  },
  "language_info": {
   "codemirror_mode": {
    "name": "ipython",
    "version": 3
   },
   "file_extension": ".py",
   "mimetype": "text/x-python",
   "name": "python",
   "nbconvert_exporter": "python",
   "pygments_lexer": "ipython3",
   "version": "3.7.6"
  }
 },
 "nbformat": 4,
 "nbformat_minor": 4
}
