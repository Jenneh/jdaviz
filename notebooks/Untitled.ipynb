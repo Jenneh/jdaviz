{
 "cells": [
  {
   "cell_type": "code",
   "execution_count": null,
   "metadata": {},
   "outputs": [],
   "source": []
  },
  {
   "cell_type": "code",
   "execution_count": 34,
   "metadata": {},
   "outputs": [],
   "source": [
    "from spectral_cube import SpectralCube\n",
    "from specutils import Spectrum1D\n",
    "import numpy as np"
   ]
  },
  {
   "cell_type": "markdown",
   "metadata": {},
   "source": [
    "Parse cube data using spectral cube"
   ]
  },
  {
   "cell_type": "code",
   "execution_count": 35,
   "metadata": {},
   "outputs": [
    {
     "name": "stderr",
     "output_type": "stream",
     "text": [
      "WARNING: Could not parse unit 1E-17 erg/s/cm^2/Angstrom/spaxel [spectral_cube.cube_utils]\n",
      "WARNING:astropy:Could not parse unit 1E-17 erg/s/cm^2/Angstrom/spaxel\n"
     ]
    },
    {
     "data": {
      "text/plain": [
       "SpectralCube with shape=(4563, 74, 74):\n",
       " n_x:     74  type_x: RA---TAN  unit_x: deg    range:   205.432788 deg:  205.444168 deg\n",
       " n_y:     74  type_y: DEC--TAN  unit_y: deg    range:    26.999615 deg:   27.009754 deg\n",
       " n_s:   4563  type_s: WAVE-LOG  unit_s: Angstrom  range:     3621.596 Angstrom:   10353.806 Angstrom"
      ]
     },
     "execution_count": 35,
     "metadata": {},
     "output_type": "execute_result"
    }
   ],
   "source": [
    "sc_cube = SpectralCube.read(\"/Users/nearl/data/cubeviz/MaNGA/manga-7495-12704-LOGCUBE.fits\", hdu=1)\n",
    "sc_cube"
   ]
  },
  {
   "cell_type": "markdown",
   "metadata": {},
   "source": [
    "`SpectralCube` can take and apply arbitrary functions over axes of the data. In this case, we can apply a simple averaging function over the spatial axes. The `Project` keyword returns a lower dimesional object (in this case, a `OneDSpectrum` object that retains the WCS information that we'll need to use when constructing the `Spectrum1D` object."
   ]
  },
  {
   "cell_type": "code",
   "execution_count": 50,
   "metadata": {},
   "outputs": [
    {
     "data": {
      "text/plain": [
       "(4563,)"
      ]
     },
     "execution_count": 50,
     "metadata": {},
     "output_type": "execute_result"
    }
   ],
   "source": [
    "sc_spec = spec_cube.apply_numpy_function(np.mean, axis=(1,2), projection=True)\n",
    "sc_spec.shape"
   ]
  },
  {
   "cell_type": "markdown",
   "metadata": {},
   "source": [
    "Now we need to find a way to express this as a `Spectrum1D` object. We will need the parsed WCS information from the lower dimensional `spectral-cube` object"
   ]
  },
  {
   "cell_type": "code",
   "execution_count": 54,
   "metadata": {},
   "outputs": [
    {
     "data": {
      "text/plain": [
       "<Spectrum1D(flux=<Quantity [0.06278672, 0.05465561, 0.06805339, ..., 0.03141097, 0.05135   ,\n",
       "           0.        ]>, spectral_axis=<Quantity [3.62159598e-07, 3.62242998e-07, 3.62326418e-07, ...,\n",
       "           1.03490386e-06, 1.03514218e-06, 1.03538056e-06] m>)>"
      ]
     },
     "execution_count": 54,
     "metadata": {},
     "output_type": "execute_result"
    }
   ],
   "source": [
    "su_spec = Spectrum1D(flux=sc_spec.data[:] * sc_spec.unit, \n",
    "                     wcs=sc_spec.wcs)\n",
    "su_spec"
   ]
  },
  {
   "cell_type": "code",
   "execution_count": null,
   "metadata": {},
   "outputs": [],
   "source": []
  }
 ],
 "metadata": {
  "kernelspec": {
   "display_name": "Python 3",
   "language": "python",
   "name": "python3"
  },
  "language_info": {
   "codemirror_mode": {
    "name": "ipython",
    "version": 3
   },
   "file_extension": ".py",
   "mimetype": "text/x-python",
   "name": "python",
   "nbconvert_exporter": "python",
   "pygments_lexer": "ipython3",
   "version": "3.7.6"
  }
 },
 "nbformat": 4,
 "nbformat_minor": 4
}
