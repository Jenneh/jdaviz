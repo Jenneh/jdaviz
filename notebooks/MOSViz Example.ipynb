{
 "cells": [
  {
   "cell_type": "code",
   "execution_count": null,
   "metadata": {},
   "outputs": [],
   "source": [
    "from jdaviz.configs.mosviz.helper import MosViz"
   ]
  },
  {
   "cell_type": "markdown",
   "metadata": {},
   "source": [
    "---\n",
    "**NOTE**\n",
    "\n",
    "Currently, the 2D spectrum viewer does not correctly default to the right viewer axes values. To get the 2D spectrum to show, switch \"y axis\" to `wave`.\n",
    "\n",
    "---"
   ]
  },
  {
   "cell_type": "code",
   "execution_count": null,
   "metadata": {
    "scrolled": false
   },
   "outputs": [],
   "source": [
    "mosviz = MosViz()\n",
    "mosviz.app"
   ]
  },
  {
   "cell_type": "markdown",
   "metadata": {},
   "source": [
    "The MOSViz parsers accepts lists of `Spectrum1D`, `SpectralCube`, and `CCDData` for 1D, 2D, and image data respectively. Alternatively, and the method used below, users can provide lists of file paths and MOSViz will internally attempt to parse them as their respective data type."
   ]
  },
  {
   "cell_type": "code",
   "execution_count": null,
   "metadata": {
    "scrolled": false
   },
   "outputs": [],
   "source": [
    "import glob\n",
    "\n",
    "spectra_1d = []\n",
    "spectra_2d = []\n",
    "images = []\n",
    "\n",
    "\n",
    "for file_path in glob.glob(\"/Users/nmearl/Downloads/mosviz_nirspec_data_0.3/level3/*\"):\n",
    "    if 'x1d' in file_path:\n",
    "        spectra_1d.append(file_path)\n",
    "    elif 's2d' in file_path:\n",
    "        spectra_2d.append(file_path)\n",
    "        \n",
    "        \n",
    "for i in range(len(spectra_1d)):\n",
    "    images.append(\"/Users/nmearl/Downloads/mosviz_nirspec_data_0.3/level3/mosviz_cutouts/227.fits\")\n",
    "\n",
    "mosviz.load_1d_spectra(spectra_1d)\n",
    "mosviz.load_2d_spectra(spectra_2d)\n",
    "mosviz.load_images(images)"
   ]
  },
  {
   "cell_type": "code",
   "execution_count": null,
   "metadata": {},
   "outputs": [],
   "source": [
    "from astropy.io import fits\n",
    "from astropy.wcs import WCS\n",
    "from spectral_cube import SpectralCube\n",
    "import numpy as np\n",
    "from glue.core.data import Data\n",
    "\n",
    "def _parse_as_cube(path):\n",
    "    with fits.open(path) as hdulist:\n",
    "        data = hdulist[1].data\n",
    "\n",
    "        if hdulist[1].header['NAXIS'] == 2:\n",
    "            new_data = np.expand_dims(data, axis=1)\n",
    "            hdulist[1].header['NAXIS'] = 3\n",
    "\n",
    "        hdulist[1].header['NAXIS3'] = 1\n",
    "        hdulist[1].header['BUNIT'] = 'dN/s'\n",
    "        hdulist[1].header['CUNIT3'] = 'um'\n",
    "        wcs = WCS(hdulist[1].header)\n",
    "        \n",
    "    from spectral_cube import BooleanArrayMask\n",
    "    mask = BooleanArrayMask(mask=np.ones(new_data.shape).astype(bool), wcs=wcs) \n",
    "\n",
    "    return SpectralCube(new_data, wcs=wcs, mask=mask)#, mask=np.ones(new_data.shape).astype(bool), fill_value=False)"
   ]
  },
  {
   "cell_type": "code",
   "execution_count": null,
   "metadata": {},
   "outputs": [],
   "source": [
    "cube = _parse_as_cube(\"/Users/nmearl/Downloads/mosviz_nirspec_data_0.3/level3/f170lp-g235m_mos_observation-6-c0e0_s00279_s2d.fits\")"
   ]
  },
  {
   "cell_type": "code",
   "execution_count": null,
   "metadata": {},
   "outputs": [],
   "source": [
    "cube.shape"
   ]
  },
  {
   "cell_type": "code",
   "execution_count": null,
   "metadata": {},
   "outputs": [],
   "source": [
    "cube = cube.with_fill_value(0)"
   ]
  },
  {
   "cell_type": "code",
   "execution_count": null,
   "metadata": {},
   "outputs": [],
   "source": [
    "cube[:, 0, :]"
   ]
  },
  {
   "cell_type": "code",
   "execution_count": null,
   "metadata": {},
   "outputs": [],
   "source": []
  }
 ],
 "metadata": {
  "kernelspec": {
   "display_name": "Python 3",
   "language": "python",
   "name": "python3"
  },
  "language_info": {
   "codemirror_mode": {
    "name": "ipython",
    "version": 3
   },
   "file_extension": ".py",
   "mimetype": "text/x-python",
   "name": "python",
   "nbconvert_exporter": "python",
   "pygments_lexer": "ipython3",
   "version": "3.8.3"
  }
 },
 "nbformat": 4,
 "nbformat_minor": 4
}
