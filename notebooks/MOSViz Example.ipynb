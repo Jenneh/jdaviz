{
 "cells": [
  {
   "cell_type": "code",
   "execution_count": 1,
   "metadata": {},
   "outputs": [
    {
     "name": "stderr",
     "output_type": "stream",
     "text": [
      "/Users/nearl/projects/glue/glue/external/echo/__init__.py:3: UserWarning: glue.external.echo is deprecated, import from echo directly instead\n",
      "  warnings.warn('glue.external.echo is deprecated, import from echo directly instead')\n"
     ]
    }
   ],
   "source": [
    "from jdaviz.configs.mosviz.helper import MosViz"
   ]
  },
  {
   "cell_type": "code",
   "execution_count": 2,
   "metadata": {
    "scrolled": false
   },
   "outputs": [
    {
     "name": "stdout",
     "output_type": "stream",
     "text": [
      "RENDERING  image-viewer\n",
      "RENDERING  spectrum-2d-viewer\n",
      "RENDERING  spectrum-viewer\n",
      "RENDERING  table-viewer\n",
      "CONFIG LOADED\n"
     ]
    },
    {
     "data": {
      "application/vnd.jupyter.widget-view+json": {
       "model_id": "247e07789e014df7a60d957e277d7630",
       "version_major": 2,
       "version_minor": 0
      },
      "text/plain": [
       "Application(components={'g-viewer-tab': '<template>\\n  <component :is=\"stack.container\">\\n    <g-viewer-tab\\n …"
      ]
     },
     "metadata": {},
     "output_type": "display_data"
    },
    {
     "name": "stdout",
     "output_type": "stream",
     "text": [
      "3\n",
      "1D Spectrum 3\n",
      "2D Spectrum 3\n",
      "Image 3\n"
     ]
    }
   ],
   "source": [
    "mosviz = MosViz()\n",
    "mosviz.app\n",
    "\n",
    "# from jdaviz.app import Application\n",
    "\n",
    "# app = Application(configuration='default')\n",
    "# app"
   ]
  },
  {
   "cell_type": "code",
   "execution_count": 3,
   "metadata": {},
   "outputs": [
    {
     "data": {
      "text/plain": [
       "glue_jupyter.app.JupyterApplication"
      ]
     },
     "execution_count": 3,
     "metadata": {},
     "output_type": "execute_result"
    }
   ],
   "source": [
    "type(mosviz.app.get_viewer('table-viewer').session.application)"
   ]
  },
  {
   "cell_type": "code",
   "execution_count": 4,
   "metadata": {},
   "outputs": [
    {
     "name": "stdout",
     "output_type": "stream",
     "text": [
      "HERE\n"
     ]
    }
   ],
   "source": [
    "# app.load_data(\"w5_psc.csv\")\n",
    "\n",
    "from specutils import Spectrum1D, SpectrumCollection\n",
    "import astropy.units as u\n",
    "import numpy as np\n",
    "import glob\n",
    "from astropy.io import fits\n",
    "from spectral_cube import SpectralCube\n",
    "from astropy.wcs import WCS\n",
    "from astropy.nddata import CCDData\n",
    "\n",
    "spectra_1d = []\n",
    "spectra_2d = []\n",
    "images = []\n",
    "\n",
    "\n",
    "for file_path in glob.glob(\"/Users/nearl/Downloads/mosviz_nirspec_data_0.3/level3/*\"):\n",
    "    if 'x1d' in file_path:\n",
    "        spec = Spectrum1D.read(file_path, format=\"JWST x1d\")\n",
    "        spectra_1d.append(spec)\n",
    "    elif 's2d' in file_path:\n",
    "        with fits.open(file_path) as hdulist:\n",
    "            data = hdulist[1].data\n",
    "            new_data = np.expand_dims(data, axis=1)\n",
    "            hdulist[1].header['NAXIS'] = 3\n",
    "            hdulist[1].header['NAXIS3'] = 1\n",
    "            hdulist[1].header['BUNIT'] = 'dN/s'\n",
    "            hdulist[1].header['CUNIT3'] = 'um'\n",
    "            wcs = WCS(hdulist[1].header)\n",
    "            \n",
    "        spec = SpectralCube(new_data, wcs=wcs)\n",
    "        spectra_2d.append(spec)\n",
    "        \n",
    "        \n",
    "for i in range(len(spectra_1d)):\n",
    "#     with fits.open(\"/Users/nearl/Downloads/mosviz_nirspec_data_0.3/level3/cutouts/227.fits\") as hdulist:\n",
    "#         pass\n",
    "    \n",
    "    images.append(CCDData.read(\"/Users/nearl/Downloads/mosviz_nirspec_data_0.3/level3/mosviz_cutouts/227.fits\", unit='Jy'))\n",
    "\n",
    "\n",
    "# spec = Spectrum1D(spectral_axis=np.arange(10) * u.AA, flux=np.random.sample(10) * u.Jy)\n",
    "mosviz.load_1d_spectra(spectra_1d)\n",
    "mosviz.load_2d_spectra(spectra_2d)\n",
    "mosviz.load_images(images)\n",
    "\n",
    "# spec_coll = SpectrumCollection.from_spectra([spec for _ in range(5)])\n",
    "# mosviz.load_1d_spectra(spec_coll, data_labels=[f'Test {i}' for i in range(5)])"
   ]
  },
  {
   "cell_type": "code",
   "execution_count": null,
   "metadata": {},
   "outputs": [],
   "source": [
    "# mosviz.app.get_viewer('mos-profile-viewer')\n",
    "from glue_jupyter.app import JupyterApplication\n",
    "\n",
    "japp = JupyterApplication()"
   ]
  },
  {
   "cell_type": "code",
   "execution_count": null,
   "metadata": {
    "scrolled": false
   },
   "outputs": [],
   "source": [
    "# spec_coll = Spectrum1D.read(\"/Users/nearl/Downloads/mosviz_nirspec_data_0.3/level3/f170lp-g235m_mos_observation-6-c0e0_s00227_s2d.fits\")\n",
    "# mosviz.load_1d_spectra(spec_coll, data_labels=['Test'])\n",
    "from astropy.io import fits\n",
    "from astropy.wcs import WCS\n",
    "from spectral_cube import SpectralCube\n",
    "from astropy.nddata import CCDData\n",
    "import numpy as np\n",
    "\n",
    "path = \"/Users/nearl/Downloads/mosviz_nirspec_data_0.3/level3/f170lp-g235m_mos_observation-6-c0e0_s00227_s2d.fits\"\n",
    "\n",
    "# fits.setval(path, 'BUNIT', value='dN/s', ext=1)\n",
    "# fits.setval(path, 'CUNIT3', value='um', ext=1)\n",
    "\n",
    "with fits.open(path) as hdulist:\n",
    "    data = hdulist[1].data\n",
    "    new_data = np.expand_dims(data, axis=1)\n",
    "    hdulist[1].header['NAXIS'] = 3\n",
    "    hdulist[1].header['NAXIS3'] = 1\n",
    "    wcs = WCS(hdulist[1].header)\n",
    "#     print(new_data.shape)\n",
    "#     print(hdulist[1].header.__repr__)\n",
    "    \n",
    "    \n",
    "spec2d = SpectralCube(data=new_data, wcs=wcs)\n",
    "\n",
    "\n",
    "# spec2d = CCDData.read(\"/Users/nmearl/Downloads/mosviz_nirspec_data_0.3/level3/f170lp-g235m_mos_observation-6-c0e0_s00227_s2d.fits\")\n",
    "\n",
    "# spec2d = Spectrum1D.read(path, format=\"JWST s2d\")\n",
    "# spec_coll = SpectrumCollection.from_spectra([spec for _ in range(5)])\n",
    "# spec_list = [spec2d for _ in range(5)]\n",
    "# mosviz.load_2d_spectra(spec_coll, data_labels=[f'Test 2D {i}' for i in range(5)])\n",
    "mosviz.app.data_collection['test'] = spec2d"
   ]
  },
  {
   "cell_type": "code",
   "execution_count": null,
   "metadata": {},
   "outputs": [],
   "source": []
  },
  {
   "cell_type": "code",
   "execution_count": null,
   "metadata": {
    "scrolled": false
   },
   "outputs": [],
   "source": [
    "from glue_jupyter.app import JupyterApplication\n",
    "from astropy.nddata import CCDData\n",
    "\n",
    "path = \"/Users/nmearl/Downloads/mosviz_nirspec_data_0.3/level3/f170lp-g235m_mos_observation-6-c0e0_s00227_s2d.fits\"\n",
    "\n",
    "spec2d = CCDData.read(path)\n",
    "\n",
    "japp = JupyterApplication()\n",
    "\n",
    "japp.data_collection['test'] = spec2d"
   ]
  },
  {
   "cell_type": "code",
   "execution_count": null,
   "metadata": {},
   "outputs": [],
   "source": [
    "spec2d"
   ]
  },
  {
   "cell_type": "code",
   "execution_count": null,
   "metadata": {},
   "outputs": [],
   "source": [
    "from glue_jupyter.table import TableViewer"
   ]
  },
  {
   "cell_type": "code",
   "execution_count": null,
   "metadata": {},
   "outputs": [],
   "source": [
    "tv = TableViewer(app.session)\n",
    "tv.figure_widget"
   ]
  },
  {
   "cell_type": "code",
   "execution_count": null,
   "metadata": {},
   "outputs": [],
   "source": [
    "from glue_jupyter.app import JupyterApplication\n",
    "from glue_jupyter.table import TableViewer\n",
    "from glue_jupyter.data import require_data\n",
    "require_data(\"Astronomy/W5/w5_psc.csv\")"
   ]
  },
  {
   "cell_type": "code",
   "execution_count": null,
   "metadata": {},
   "outputs": [],
   "source": [
    "app = JupyterApplication()\n",
    "# app.load_data(\"w5_psc.csv\")\n"
   ]
  },
  {
   "cell_type": "code",
   "execution_count": null,
   "metadata": {},
   "outputs": [],
   "source": [
    "from glue_jupyter.utils import validate_data_argument\n",
    "from glue.core.data import Data\n",
    "\n",
    "data = Data(x=[], label=None)\n",
    "app.data_collection.append(data)\n",
    "\n",
    "# data = validate_data_argument(app.data_collection, data)\n",
    "data.components"
   ]
  },
  {
   "cell_type": "code",
   "execution_count": null,
   "metadata": {},
   "outputs": [],
   "source": [
    "# viewer = app.new_data_viewer(TableViewer, data=app.data_collection, show=False)\n",
    "from glue_jupyter.table import TableViewer\n",
    "from jdaviz.configs.mosviz.plugins.viewers import MOSVizTableViewer\n",
    "\n",
    "from glue_jupyter.app import JupyterApplication\n",
    "app = JupyterApplication()\n",
    "app.load_data(\"w5_psc.csv\")\n",
    "\n",
    "view = app.new_data_viewer(MOSVizTableViewer, data=None, show=True)\n",
    "# app.table(data=\"w5_psc\")\n",
    "\n",
    "# view.figure_widget.model_id\n",
    "# layer_state = {}\n",
    "# view.layers[0].state.update_from_dict(layer_state)\n",
    "\n",
    "view"
   ]
  },
  {
   "cell_type": "code",
   "execution_count": null,
   "metadata": {},
   "outputs": [],
   "source": [
    "# app.data_collection['Table'].update_components({app.data_collection['Table'].get_component('1D Spectrum'): [1, 2, 3],\n",
    "#                                                 app.data_collection['Table'].get_component('2D Spectrum'): [1, 2, 3],\n",
    "#                                                 app.data_collection['Table'].get_component('DEC'): [1, 2, 3],\n",
    "#                                                 app.data_collection['Table'].get_component('RA'): [1, 2, 3],\n",
    "#                                                 app.data_collection['Table'].get_component('Image'): [1, 2, 3],\n",
    "#                                                 app.data_collection['Table'].get_component('ID'): [1, 2, 3]})\n",
    "data = app.data_collection['Table']\n",
    "\n",
    "# for name in data.components:\n",
    "#     data.remove_component(data.id[name])\n",
    "    \n",
    "app.data_collection['Table'].add_component([4, 5, 6], '3D Spectrum')\n",
    "data.components"
   ]
  },
  {
   "cell_type": "code",
   "execution_count": null,
   "metadata": {
    "scrolled": false
   },
   "outputs": [],
   "source": [
    "from glue_jupyter.table.viewer import TableGlue\n",
    "\n",
    "TableGlue(data=None)"
   ]
  },
  {
   "cell_type": "code",
   "execution_count": null,
   "metadata": {},
   "outputs": [],
   "source": []
  },
  {
   "cell_type": "code",
   "execution_count": null,
   "metadata": {},
   "outputs": [],
   "source": [
    "# import ipyvuetify as v\n",
    "from traitlets import Unicode, List, Bool, observe\n",
    "from astropy.table import QTable\n",
    "from glue.core.message import SubsetCreateMessage, SubsetUpdateMessage, DataCollectionAddMessage\n",
    "from glue.core import HubListener\n",
    "from glue.core.state_objects import State\n",
    "from glue_jupyter.state_traitlets_helpers import GlueState\n",
    "from echo import CallbackProperty, DictCallbackProperty, ListCallbackProperty\n",
    "\n",
    "from glue_jupyter.app import JupyterApplication\n",
    "app = JupyterApplication()\n",
    "app.load_data(\"w5_psc.csv\")\n",
    "\n",
    "\n",
    "template = \"\"\"\n",
    "<template>\n",
    "  <v-data-table\n",
    "    v-model=\"selected\"\n",
    "    :headers=\"headers\"\n",
    "    :items=\"items\"\n",
    "    class=\"elevation-1\"\n",
    "    show-select\n",
    "  >\n",
    "    <template v-slot:item.calories=\"{ item }\">\n",
    "      <v-chip :color=\"get_color(item.calories)\" dark>{{ item.calories }}</v-chip>\n",
    "    </template>\n",
    "    <template v-slot:item.spec1d=\"{ item }\">\n",
    "        <v-select\n",
    "          :items=\"dc_items\"\n",
    "      ></v-select>\n",
    "      </template>\n",
    "      <template v-slot:item.spec2d=\"{ item }\">\n",
    "        \n",
    "            <v-text-field\n",
    "              v-model=\"item.cutout\"\n",
    "              label=\"Edit\"\n",
    "              single-line\n",
    "              counter\n",
    "            ></v-text-field>\n",
    "      </template>\n",
    "      <template v-slot:item.cutout=\"{ item }\">\n",
    "        <v-edit-dialog\n",
    "          :return-value.sync=\"item.cutout\"\n",
    "        > {{ item.cutout }}\n",
    "          <template v-slot:input>\n",
    "              <v-select :items=\"dc_items\" v-model=\"selected_dc_item\"></v-select>\n",
    "              <v-select :items=\"comp_items\" v-model=\"selected_comp_item\"></v-select>\n",
    "          </template>\n",
    "        </v-edit-dialog>\n",
    "      </template>\n",
    "  </v-data-table>\n",
    "</template>\n",
    "\"\"\"\n",
    "\n",
    "\n",
    "class TableState(State):\n",
    "    headers = ListCallbackProperty([\n",
    "          {\n",
    "            'text': 'ID',\n",
    "            'align': 'start',\n",
    "            'sortable': True,\n",
    "            'value': 'id',\n",
    "          },\n",
    "          { 'text': 'RA', 'value': 'ra' },\n",
    "          { 'text': 'DEC', 'value': 'dec' },\n",
    "          { 'text': 'Spectrum 1D', 'value': 'spec1d' },\n",
    "          { 'text': 'Spectrum 2D', 'value': 'spec2d' },\n",
    "          { 'text': 'Cutout', 'value': 'cutout' },\n",
    "          { 'text': 'Slit Width', 'value': 'slit_width' },\n",
    "          { 'text': 'Slit Height', 'value': 'slit_height' },\n",
    "          { 'text': 'Pixel Scale', 'value': 'pix_scale' }])\n",
    "    selected = ListCallbackProperty()\n",
    "    items = ListCallbackProperty([\n",
    "          {\n",
    "            'id': '0',\n",
    "            'ra': 159,\n",
    "            'dec': 6.0,\n",
    "            'spec1d': {\n",
    "                'dc_item': None,\n",
    "                'comp_item': None\n",
    "            },\n",
    "            'spec2d': {\n",
    "                'dc_item': None,\n",
    "                'comp_item': None\n",
    "            },\n",
    "            'cutout': '1%',\n",
    "            'slit_width': '1%',\n",
    "            'slit_height': '1%',\n",
    "            'pix_scale': '1%',\n",
    "          }])\n",
    "    dc_items = ListCallbackProperty()\n",
    "    comp_items = ListCallbackProperty()\n",
    "\n",
    "\n",
    "class TableViewer(v.VuetifyTemplate, HubListener):\n",
    "    template = Unicode(template).tag(sync=True)\n",
    "    state = GlueState().tag(sync=True)\n",
    "    \n",
    "    def __init__(self, session, *args, **kwargs):\n",
    "        super().__init__(*args, **kwargs)\n",
    "        \n",
    "        self.state = TableState()\n",
    "        \n",
    "        self._table = QTable()\n",
    "        self._session = session\n",
    "        \n",
    "        self._session.hub.subscribe(\n",
    "            self, SubsetCreateMessage,\n",
    "            handler=self._on_subset_updated)\n",
    "        \n",
    "        self._session.hub.subscribe(\n",
    "            self, SubsetUpdateMessage,\n",
    "            handler=self._on_subset_updated)\n",
    "        \n",
    "        self._session.hub.subscribe(\n",
    "            self, DataCollectionAddMessage,\n",
    "            handler=self._on_data_collection_changed)\n",
    "        \n",
    "        self._on_data_collection_changed()\n",
    "        \n",
    "    def _on_data_collection_changed(self, *args, **kwargs):\n",
    "        self.state.dc_items = [x.label for x in self._session.data_collection]\n",
    "        \n",
    "    @observe(\"selected_dc_item\")\n",
    "    def _update_comp_items(self, *args, **kwargs):\n",
    "        self.state.comp_items = [x.label for x in self._session.data_collection[\n",
    "            self.state.selected_dc_item].components]\n",
    "        \n",
    "    def _on_subset_updated(self, msg):\n",
    "        print(msg)\n",
    "        \n",
    "    def load_data(self, data):\n",
    "        pass\n",
    "    \n",
    "    def _update_headers(self):\n",
    "        self.headers = [{\n",
    "            'text': x,\n",
    "            'align': 'start',\n",
    "            'sortable': False,\n",
    "            'value': 'name',\n",
    "          } for x in self._table.colnames]\n",
    "        \n",
    "    def _update_items(self):\n",
    "        self.items = [{\n",
    "                k: v.to_string() if hasattr(v, 'unit') else v for k,v in zip(t[i].colnames, t[i])}\n",
    "            for i in range(len(self._table))]\n",
    "    \n",
    "    def _add_item(self, item):\n",
    "        pass\n",
    "    \n",
    "    def _remove_item(self, item):\n",
    "        pass\n",
    "        \n",
    "    def vue_get_color(self, calories):\n",
    "        if calories > 400:\n",
    "            return 'red'\n",
    "        elif calories > 200:\n",
    "            return 'orange'\n",
    "        \n",
    "        return 'green'\n",
    "    \n",
    "tv = TableViewer(app.session)\n",
    "tv"
   ]
  },
  {
   "cell_type": "code",
   "execution_count": null,
   "metadata": {},
   "outputs": [],
   "source": [
    "%%javascript\n",
    "\n",
    "Jupyter.keyboard_manager.register_events(document.getElementById(\"base-app\"))"
   ]
  },
  {
   "cell_type": "markdown",
   "metadata": {},
   "source": [
    "# "
   ]
  },
  {
   "cell_type": "code",
   "execution_count": null,
   "metadata": {},
   "outputs": [],
   "source": [
    "app.scatter2d()"
   ]
  },
  {
   "cell_type": "code",
   "execution_count": null,
   "metadata": {},
   "outputs": [],
   "source": [
    "type(app.data_collection[0].components[0].label)"
   ]
  },
  {
   "cell_type": "code",
   "execution_count": null,
   "metadata": {},
   "outputs": [],
   "source": [
    "from astropy.table import QTable\n",
    "import astropy.units as u\n",
    "import numpy as np\n",
    "\n",
    "a = np.array([1, 4, 5], dtype=np.int32)\n",
    "b = [2.0, 5.0, 8.5]\n",
    "c = ['x', 'y', 'z']\n",
    "d = [10, 20, 30] * u.m / u.s\n",
    "\n",
    "t = QTable([a, b, c, d],\n",
    "           names=('a', 'b', 'c', 'd'),\n",
    "           meta={'name': 'first table'})"
   ]
  },
  {
   "cell_type": "code",
   "execution_count": null,
   "metadata": {},
   "outputs": [],
   "source": [
    "[\n",
    "    {k: v.to_string() if hasattr(v, 'unit') else v for k,v in zip(t[i].colnames, t[i])}\n",
    "    for i in range(len(t))\n",
    "]"
   ]
  },
  {
   "cell_type": "code",
   "execution_count": null,
   "metadata": {},
   "outputs": [],
   "source": [
    "a = 10 * u.AA"
   ]
  },
  {
   "cell_type": "code",
   "execution_count": null,
   "metadata": {},
   "outputs": [],
   "source": []
  },
  {
   "cell_type": "code",
   "execution_count": null,
   "metadata": {},
   "outputs": [],
   "source": [
    "from glue.core.data import Data\n",
    "from glue_jupyter.app import JupyterApplication\n",
    "\n",
    "japp = JupyterApplication()\n",
    "\n",
    "\n",
    "d = Data(label=\"Test\")"
   ]
  },
  {
   "cell_type": "code",
   "execution_count": null,
   "metadata": {},
   "outputs": [],
   "source": [
    "d.add_component([0, 2, 4], label=\"x\")\n",
    "d.get_component('x').units = 'AA'\n",
    "d.add_component(['a', 'b', 'c'], label=\"y\")"
   ]
  },
  {
   "cell_type": "code",
   "execution_count": null,
   "metadata": {},
   "outputs": [],
   "source": [
    "xid = d.id['x']\n",
    "\n",
    "d.components[0].label == 'Pixel Axis 0 [x]'"
   ]
  },
  {
   "cell_type": "code",
   "execution_count": null,
   "metadata": {},
   "outputs": [],
   "source": [
    "from jdaviz.configs.mosviz.plugins.viewers import NewTableViewer\n",
    "\n",
    "tv = NewTableViewer(japp.session)"
   ]
  },
  {
   "cell_type": "code",
   "execution_count": null,
   "metadata": {},
   "outputs": [],
   "source": [
    "tv"
   ]
  },
  {
   "cell_type": "code",
   "execution_count": null,
   "metadata": {},
   "outputs": [],
   "source": [
    "import astropy.units as u\n",
    "import numpy as np\n",
    "from astropy.table import QTable\n",
    "\n",
    "\n",
    "tab = QTable()\n",
    "\n",
    "\n",
    "\n",
    "for c in d.components:\n",
    "    raw_data = d.get_component(c).data\n",
    "    print(type(raw_data) is np.ndarray)\n",
    "#     print(np.array(d.get_component(c).data) * u.Unit(d.get_component(c).units))\n",
    "#     print(np.array(d.get_component(c).data) * u.Unit('AA'))\n",
    "#     print(u.Quantity(raw_data))\n",
    "    tab[c.label] = u.Quantity(raw_data) if type(raw_data) is np.ndarray else np.array(raw_data)\n",
    "    \n",
    "tab"
   ]
  },
  {
   "cell_type": "code",
   "execution_count": null,
   "metadata": {},
   "outputs": [],
   "source": [
    "tv._parse_data(d)"
   ]
  },
  {
   "cell_type": "code",
   "execution_count": null,
   "metadata": {},
   "outputs": [],
   "source": [
    "tv.state.headers[0].items()"
   ]
  },
  {
   "cell_type": "code",
   "execution_count": null,
   "metadata": {},
   "outputs": [],
   "source": [
    "tv.state.items[0].values()"
   ]
  },
  {
   "cell_type": "code",
   "execution_count": null,
   "metadata": {},
   "outputs": [],
   "source": []
  }
 ],
 "metadata": {
  "kernelspec": {
   "display_name": "Python 3",
   "language": "python",
   "name": "python3"
  },
  "language_info": {
   "codemirror_mode": {
    "name": "ipython",
    "version": 3
   },
   "file_extension": ".py",
   "mimetype": "text/x-python",
   "name": "python",
   "nbconvert_exporter": "python",
   "pygments_lexer": "ipython3",
   "version": "3.8.2"
  }
 },
 "nbformat": 4,
 "nbformat_minor": 4
}
