{
 "cells": [
  {
   "cell_type": "code",
   "execution_count": 1,
   "metadata": {},
   "outputs": [
    {
     "name": "stderr",
     "output_type": "stream",
     "text": [
      "/Users/nearl/projects/glue/glue/external/echo/__init__.py:3: UserWarning: glue.external.echo is deprecated, import from echo directly instead\n",
      "  warnings.warn('glue.external.echo is deprecated, import from echo directly instead')\n"
     ]
    }
   ],
   "source": [
    "from jdaviz.configs.mosviz.helper import MosViz"
   ]
  },
  {
   "cell_type": "code",
   "execution_count": 2,
   "metadata": {
    "scrolled": false
   },
   "outputs": [
    {
     "data": {
      "application/vnd.jupyter.widget-view+json": {
       "model_id": "91b52a56095e42929e6bb4bd006e4053",
       "version_major": 2,
       "version_minor": 0
      },
      "text/plain": [
       "Application(components={'g-viewer-tab': '<template>\\n  <component :is=\"stack.container\">\\n    <g-viewer-tab\\n …"
      ]
     },
     "metadata": {},
     "output_type": "display_data"
    }
   ],
   "source": [
    "mosviz = MosViz()\n",
    "mosviz.app\n",
    "\n",
    "# from jdaviz.app import Application\n",
    "\n",
    "# app = Application(configuration='default')\n",
    "# app"
   ]
  },
  {
   "cell_type": "code",
   "execution_count": 4,
   "metadata": {},
   "outputs": [
    {
     "name": "stderr",
     "output_type": "stream",
     "text": [
      "WARNING:root:Not all spectra have associated uncertainties of the same type, skipping uncertainties.\n",
      "WARNING:root:Not all spectra have associated masks, skipping masks.\n"
     ]
    }
   ],
   "source": [
    "# app.load_data(\"w5_psc.csv\")\n",
    "\n",
    "from specutils import Spectrum1D, SpectrumCollection\n",
    "import astropy.units as u\n",
    "import numpy as np\n",
    "\n",
    "spec = Spectrum1D(spectral_axis=np.arange(10) * u.AA, flux=np.random.sample(10) * u.Jy)\n",
    "# mosviz.load_1d_spectra(spec, data_labels=['Test'])\n",
    "\n",
    "spec_coll = SpectrumCollection.from_spectra([spec for _ in range(5)])\n",
    "mosviz.load_1d_spectra(spec_coll, data_labels=['Test' for _ in range(5)])"
   ]
  },
  {
   "cell_type": "code",
   "execution_count": 36,
   "metadata": {},
   "outputs": [
    {
     "data": {
      "text/plain": [
       "WCS Keywords\n",
       "\n",
       "Number of WCS axes: 2\n",
       "CTYPE : ''  ''  \n",
       "CRVAL : 0.0  0.0  \n",
       "CRPIX : 0.0  0.0  \n",
       "PC1_1 PC1_2  : 1.0  0.0  \n",
       "PC2_1 PC2_2  : 0.0  1.0  \n",
       "CDELT : 1.0  1.0  \n",
       "NAXIS : 0  0"
      ]
     },
     "execution_count": 36,
     "metadata": {},
     "output_type": "execute_result"
    },
    {
     "data": {
      "image/png": "[encoded data removed]",
      "text/plain": [
       "<Figure size 432x288 with 1 Axes>"
      ]
     },
     "metadata": {
      "needs_background": "light"
     },
     "output_type": "display_data"
    }
   ],
   "source": [
    "# spec_coll = Spectrum1D.read(\"/Users/nearl/Downloads/mosviz_nirspec_data_0.3/level3/f170lp-g235m_mos_observation-6-c0e0_s00227_s2d.fits\")\n",
    "# mosviz.load_1d_spectra(spec_coll, data_labels=['Test'])\n",
    "from astropy.io import fits\n",
    "from astropy.wcs import WCS\n",
    "from spectral_cube import SpectralCube\n",
    "\n",
    "path = \"/Users/nearl/Downloads/mosviz_nirspec_data_0.3/level3/f170lp-g235m_mos_observation-6-c0e0_s00227_s2d.fits\"\n",
    "\n",
    "# fits.setval(path, 'CUNIT3', value='micron', ext=1)\n",
    "# sc = SpectralCube.read(path, hdu=1)\n",
    "\n",
    "spec = Spectrum1D.read(path, format=\"JWST s2d\")\n",
    "\n",
    "# with fits.open(path) as hdulist:\n",
    "#     print(hdulist[1].data)\n",
    "    \n",
    "import matplotlib.pyplot as plt\n",
    "\n",
    "f, ax = plt.subplots()\n",
    "\n",
    "ax.imshow(spec.flux.data)\n",
    "\n",
    "#     wcs = WCS(hdulist[0].header)\n",
    "# print(hdulist[1].header.__repr__)\n",
    "    \n",
    "    \n",
    "wcs"
   ]
  },
  {
   "cell_type": "code",
   "execution_count": null,
   "metadata": {},
   "outputs": [],
   "source": [
    "from glue_jupyter.table import TableViewer"
   ]
  },
  {
   "cell_type": "code",
   "execution_count": null,
   "metadata": {},
   "outputs": [],
   "source": [
    "tv = TableViewer(app.session)\n",
    "tv.figure_widget"
   ]
  },
  {
   "cell_type": "code",
   "execution_count": null,
   "metadata": {},
   "outputs": [],
   "source": [
    "from glue_jupyter.app import JupyterApplication\n",
    "from glue_jupyter.table import TableViewer\n",
    "from glue_jupyter.data import require_data\n",
    "require_data(\"Astronomy/W5/w5_psc.csv\")"
   ]
  },
  {
   "cell_type": "code",
   "execution_count": null,
   "metadata": {},
   "outputs": [],
   "source": [
    "app = JupyterApplication()\n",
    "# app.load_data(\"w5_psc.csv\")\n"
   ]
  },
  {
   "cell_type": "code",
   "execution_count": null,
   "metadata": {},
   "outputs": [],
   "source": [
    "from glue_jupyter.utils import validate_data_argument\n",
    "from glue.core.data import Data\n",
    "\n",
    "data = Data(x=[], label=None)\n",
    "app.data_collection.append(data)\n",
    "\n",
    "# data = validate_data_argument(app.data_collection, data)\n",
    "data.components"
   ]
  },
  {
   "cell_type": "code",
   "execution_count": null,
   "metadata": {},
   "outputs": [],
   "source": [
    "# viewer = app.new_data_viewer(TableViewer, data=app.data_collection, show=False)\n",
    "from glue_jupyter.table import TableViewer\n",
    "from jdaviz.configs.mosviz.plugins.viewers import MOSVizTableViewer\n",
    "\n",
    "from glue_jupyter.app import JupyterApplication\n",
    "app = JupyterApplication()\n",
    "app.load_data(\"w5_psc.csv\")\n",
    "\n",
    "view = app.new_data_viewer(MOSVizTableViewer, data=None, show=True)\n",
    "# app.table(data=\"w5_psc\")\n",
    "\n",
    "# view.figure_widget.model_id\n",
    "# layer_state = {}\n",
    "# view.layers[0].state.update_from_dict(layer_state)\n",
    "\n",
    "view"
   ]
  },
  {
   "cell_type": "code",
   "execution_count": null,
   "metadata": {},
   "outputs": [],
   "source": [
    "# app.data_collection['Table'].update_components({app.data_collection['Table'].get_component('1D Spectrum'): [1, 2, 3],\n",
    "#                                                 app.data_collection['Table'].get_component('2D Spectrum'): [1, 2, 3],\n",
    "#                                                 app.data_collection['Table'].get_component('DEC'): [1, 2, 3],\n",
    "#                                                 app.data_collection['Table'].get_component('RA'): [1, 2, 3],\n",
    "#                                                 app.data_collection['Table'].get_component('Image'): [1, 2, 3],\n",
    "#                                                 app.data_collection['Table'].get_component('ID'): [1, 2, 3]})\n",
    "data = app.data_collection['Table']\n",
    "\n",
    "# for name in data.components:\n",
    "#     data.remove_component(data.id[name])\n",
    "    \n",
    "app.data_collection['Table'].add_component([4, 5, 6], '3D Spectrum')\n",
    "data.components"
   ]
  },
  {
   "cell_type": "code",
   "execution_count": null,
   "metadata": {
    "scrolled": false
   },
   "outputs": [],
   "source": [
    "from glue_jupyter.table.viewer import TableGlue\n",
    "\n",
    "TableGlue(data=None)"
   ]
  },
  {
   "cell_type": "code",
   "execution_count": null,
   "metadata": {},
   "outputs": [],
   "source": []
  },
  {
   "cell_type": "code",
   "execution_count": null,
   "metadata": {},
   "outputs": [],
   "source": [
    "# import ipyvuetify as v\n",
    "from traitlets import Unicode, List, Bool, observe\n",
    "from astropy.table import QTable\n",
    "from glue.core.message import SubsetCreateMessage, SubsetUpdateMessage, DataCollectionAddMessage\n",
    "from glue.core import HubListener\n",
    "from glue.core.state_objects import State\n",
    "from glue_jupyter.state_traitlets_helpers import GlueState\n",
    "from echo import CallbackProperty, DictCallbackProperty, ListCallbackProperty\n",
    "\n",
    "from glue_jupyter.app import JupyterApplication\n",
    "app = JupyterApplication()\n",
    "app.load_data(\"w5_psc.csv\")\n",
    "\n",
    "\n",
    "template = \"\"\"\n",
    "<template>\n",
    "  <v-data-table\n",
    "    v-model=\"selected\"\n",
    "    :headers=\"headers\"\n",
    "    :items=\"items\"\n",
    "    class=\"elevation-1\"\n",
    "    show-select\n",
    "  >\n",
    "    <template v-slot:item.calories=\"{ item }\">\n",
    "      <v-chip :color=\"get_color(item.calories)\" dark>{{ item.calories }}</v-chip>\n",
    "    </template>\n",
    "    <template v-slot:item.spec1d=\"{ item }\">\n",
    "        <v-select\n",
    "          :items=\"dc_items\"\n",
    "      ></v-select>\n",
    "      </template>\n",
    "      <template v-slot:item.spec2d=\"{ item }\">\n",
    "        \n",
    "            <v-text-field\n",
    "              v-model=\"item.cutout\"\n",
    "              label=\"Edit\"\n",
    "              single-line\n",
    "              counter\n",
    "            ></v-text-field>\n",
    "      </template>\n",
    "      <template v-slot:item.cutout=\"{ item }\">\n",
    "        <v-edit-dialog\n",
    "          :return-value.sync=\"item.cutout\"\n",
    "        > {{ item.cutout }}\n",
    "          <template v-slot:input>\n",
    "              <v-select :items=\"dc_items\" v-model=\"selected_dc_item\"></v-select>\n",
    "              <v-select :items=\"comp_items\" v-model=\"selected_comp_item\"></v-select>\n",
    "          </template>\n",
    "        </v-edit-dialog>\n",
    "      </template>\n",
    "  </v-data-table>\n",
    "</template>\n",
    "\"\"\"\n",
    "\n",
    "\n",
    "class TableState(State):\n",
    "    headers = ListCallbackProperty([\n",
    "          {\n",
    "            'text': 'ID',\n",
    "            'align': 'start',\n",
    "            'sortable': True,\n",
    "            'value': 'id',\n",
    "          },\n",
    "          { 'text': 'RA', 'value': 'ra' },\n",
    "          { 'text': 'DEC', 'value': 'dec' },\n",
    "          { 'text': 'Spectrum 1D', 'value': 'spec1d' },\n",
    "          { 'text': 'Spectrum 2D', 'value': 'spec2d' },\n",
    "          { 'text': 'Cutout', 'value': 'cutout' },\n",
    "          { 'text': 'Slit Width', 'value': 'slit_width' },\n",
    "          { 'text': 'Slit Height', 'value': 'slit_height' },\n",
    "          { 'text': 'Pixel Scale', 'value': 'pix_scale' }])\n",
    "    selected = ListCallbackProperty()\n",
    "    items = ListCallbackProperty([\n",
    "          {\n",
    "            'id': '0',\n",
    "            'ra': 159,\n",
    "            'dec': 6.0,\n",
    "            'spec1d': {\n",
    "                'dc_item': None,\n",
    "                'comp_item': None\n",
    "            },\n",
    "            'spec2d': {\n",
    "                'dc_item': None,\n",
    "                'comp_item': None\n",
    "            },\n",
    "            'cutout': '1%',\n",
    "            'slit_width': '1%',\n",
    "            'slit_height': '1%',\n",
    "            'pix_scale': '1%',\n",
    "          }])\n",
    "    dc_items = ListCallbackProperty()\n",
    "    comp_items = ListCallbackProperty()\n",
    "\n",
    "\n",
    "class TableViewer(v.VuetifyTemplate, HubListener):\n",
    "    template = Unicode(template).tag(sync=True)\n",
    "    state = GlueState().tag(sync=True)\n",
    "    \n",
    "    def __init__(self, session, *args, **kwargs):\n",
    "        super().__init__(*args, **kwargs)\n",
    "        \n",
    "        self.state = TableState()\n",
    "        \n",
    "        self._table = QTable()\n",
    "        self._session = session\n",
    "        \n",
    "        self._session.hub.subscribe(\n",
    "            self, SubsetCreateMessage,\n",
    "            handler=self._on_subset_updated)\n",
    "        \n",
    "        self._session.hub.subscribe(\n",
    "            self, SubsetUpdateMessage,\n",
    "            handler=self._on_subset_updated)\n",
    "        \n",
    "        self._session.hub.subscribe(\n",
    "            self, DataCollectionAddMessage,\n",
    "            handler=self._on_data_collection_changed)\n",
    "        \n",
    "        self._on_data_collection_changed()\n",
    "        \n",
    "    def _on_data_collection_changed(self, *args, **kwargs):\n",
    "        self.state.dc_items = [x.label for x in self._session.data_collection]\n",
    "        \n",
    "    @observe(\"selected_dc_item\")\n",
    "    def _update_comp_items(self, *args, **kwargs):\n",
    "        self.state.comp_items = [x.label for x in self._session.data_collection[\n",
    "            self.state.selected_dc_item].components]\n",
    "        \n",
    "    def _on_subset_updated(self, msg):\n",
    "        print(msg)\n",
    "        \n",
    "    def load_data(self, data):\n",
    "        pass\n",
    "    \n",
    "    def _update_headers(self):\n",
    "        self.headers = [{\n",
    "            'text': x,\n",
    "            'align': 'start',\n",
    "            'sortable': False,\n",
    "            'value': 'name',\n",
    "          } for x in self._table.colnames]\n",
    "        \n",
    "    def _update_items(self):\n",
    "        self.items = [{\n",
    "                k: v.to_string() if hasattr(v, 'unit') else v for k,v in zip(t[i].colnames, t[i])}\n",
    "            for i in range(len(self._table))]\n",
    "    \n",
    "    def _add_item(self, item):\n",
    "        pass\n",
    "    \n",
    "    def _remove_item(self, item):\n",
    "        pass\n",
    "        \n",
    "    def vue_get_color(self, calories):\n",
    "        if calories > 400:\n",
    "            return 'red'\n",
    "        elif calories > 200:\n",
    "            return 'orange'\n",
    "        \n",
    "        return 'green'\n",
    "    \n",
    "tv = TableViewer(app.session)\n",
    "tv"
   ]
  },
  {
   "cell_type": "code",
   "execution_count": null,
   "metadata": {},
   "outputs": [],
   "source": [
    "%%javascript\n",
    "\n",
    "Jupyter.keyboard_manager.register_events(document.getElementById(\"base-app\"))"
   ]
  },
  {
   "cell_type": "markdown",
   "metadata": {},
   "source": [
    "# "
   ]
  },
  {
   "cell_type": "code",
   "execution_count": null,
   "metadata": {},
   "outputs": [],
   "source": [
    "app.scatter2d()"
   ]
  },
  {
   "cell_type": "code",
   "execution_count": null,
   "metadata": {},
   "outputs": [],
   "source": [
    "type(app.data_collection[0].components[0].label)"
   ]
  },
  {
   "cell_type": "code",
   "execution_count": null,
   "metadata": {},
   "outputs": [],
   "source": [
    "from astropy.table import QTable\n",
    "import astropy.units as u\n",
    "import numpy as np\n",
    "\n",
    "a = np.array([1, 4, 5], dtype=np.int32)\n",
    "b = [2.0, 5.0, 8.5]\n",
    "c = ['x', 'y', 'z']\n",
    "d = [10, 20, 30] * u.m / u.s\n",
    "\n",
    "t = QTable([a, b, c, d],\n",
    "           names=('a', 'b', 'c', 'd'),\n",
    "           meta={'name': 'first table'})"
   ]
  },
  {
   "cell_type": "code",
   "execution_count": null,
   "metadata": {},
   "outputs": [],
   "source": [
    "[\n",
    "    {k: v.to_string() if hasattr(v, 'unit') else v for k,v in zip(t[i].colnames, t[i])}\n",
    "    for i in range(len(t))\n",
    "]"
   ]
  },
  {
   "cell_type": "code",
   "execution_count": null,
   "metadata": {},
   "outputs": [],
   "source": [
    "a = 10 * u.AA"
   ]
  },
  {
   "cell_type": "code",
   "execution_count": null,
   "metadata": {},
   "outputs": [],
   "source": []
  },
  {
   "cell_type": "code",
   "execution_count": null,
   "metadata": {},
   "outputs": [],
   "source": [
    "from glue.core.data import Data\n",
    "\n",
    "\n",
    "d = Data(label=\"Test\")"
   ]
  },
  {
   "cell_type": "code",
   "execution_count": null,
   "metadata": {},
   "outputs": [],
   "source": [
    "d.add_component([0, 2, 4], label=\"x\")"
   ]
  },
  {
   "cell_type": "code",
   "execution_count": null,
   "metadata": {},
   "outputs": [],
   "source": [
    "d.components"
   ]
  },
  {
   "cell_type": "code",
   "execution_count": null,
   "metadata": {},
   "outputs": [],
   "source": []
  }
 ],
 "metadata": {
  "kernelspec": {
   "display_name": "Python 3",
   "language": "python",
   "name": "python3"
  },
  "language_info": {
   "codemirror_mode": {
    "name": "ipython",
    "version": 3
   },
   "file_extension": ".py",
   "mimetype": "text/x-python",
   "name": "python",
   "nbconvert_exporter": "python",
   "pygments_lexer": "ipython3",
   "version": "3.8.2"
  }
 },
 "nbformat": 4,
 "nbformat_minor": 4
}
