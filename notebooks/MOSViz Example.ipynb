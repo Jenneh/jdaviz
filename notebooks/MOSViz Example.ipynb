{
 "cells": [
  {
   "cell_type": "code",
   "execution_count": 1,
   "metadata": {},
   "outputs": [
    {
     "name": "stderr",
     "output_type": "stream",
     "text": [
      "/Users/nearl/projects/glue/glue/external/echo/__init__.py:3: UserWarning: glue.external.echo is deprecated, import from echo directly instead\n",
      "  warnings.warn('glue.external.echo is deprecated, import from echo directly instead')\n"
     ]
    }
   ],
   "source": [
    "from jdaviz.configs.mosviz.helper import MosViz"
   ]
  },
  {
   "cell_type": "markdown",
   "metadata": {},
   "source": [
    "---\n",
    "**NOTE**\n",
    "\n",
    "Currently, the 2D spectrum viewer does not correctly default to the right viewer axes values. To get the 2D spectrum to show, switch \"x axis\" to `wave` and \"y axis\" to `right ascension`.\n",
    "\n",
    "---"
   ]
  },
  {
   "cell_type": "code",
   "execution_count": 2,
   "metadata": {
    "scrolled": false
   },
   "outputs": [
    {
     "data": {
      "application/vnd.jupyter.widget-view+json": {
       "model_id": "94810fc9539b486dbbf647c49f7b124b",
       "version_major": 2,
       "version_minor": 0
      },
      "text/plain": [
       "Application(components={'g-viewer-tab': '<template>\\n  <component :is=\"stack.container\">\\n    <g-viewer-tab\\n …"
      ]
     },
     "metadata": {},
     "output_type": "display_data"
    }
   ],
   "source": [
    "mosviz = MosViz()\n",
    "mosviz.app"
   ]
  },
  {
   "cell_type": "markdown",
   "metadata": {},
   "source": [
    "The MOSViz parsers accepts lists of `Spectrum1D`, `SpectralCube`, and `CCDData` for 1D, 2D, and image data respectively. Alternatively, and the method used below, users can provide lists of file paths and MOSViz will internally attempt to parse them as their respective data type."
   ]
  },
  {
   "cell_type": "code",
   "execution_count": 3,
   "metadata": {},
   "outputs": [
    {
     "name": "stderr",
     "output_type": "stream",
     "text": [
      "WARNING:root:No 'BUNIT' defined in the header, using 'Jy'.\n",
      "WARNING:root:No 'BUNIT' defined in the header, using 'Jy'.\n",
      "WARNING:root:No 'BUNIT' defined in the header, using 'Jy'.\n",
      "WARNING:root:No 'BUNIT' defined in the header, using 'Jy'.\n",
      "WARNING:root:No 'BUNIT' defined in the header, using 'Jy'.\n"
     ]
    }
   ],
   "source": [
    "import glob\n",
    "\n",
    "spectra_1d = []\n",
    "spectra_2d = []\n",
    "images = []\n",
    "\n",
    "\n",
    "for file_path in glob.glob(\"/Users/nearl/Downloads/mosviz_nirspec_data_0.3/level3/*\"):\n",
    "    if 'x1d' in file_path:\n",
    "        spectra_1d.append(file_path)\n",
    "    elif 's2d' in file_path:\n",
    "        spectra_2d.append(file_path)\n",
    "        \n",
    "        \n",
    "for i in range(len(spectra_1d)):\n",
    "    images.append(\"/Users/nearl/Downloads/mosviz_nirspec_data_0.3/level3/mosviz_cutouts/227.fits\")\n",
    "\n",
    "mosviz.load_1d_spectra(spectra_1d)\n",
    "mosviz.load_2d_spectra(spectra_2d)\n",
    "mosviz.load_images(images)"
   ]
  }
 ],
 "metadata": {
  "kernelspec": {
   "display_name": "Python 3",
   "language": "python",
   "name": "python3"
  },
  "language_info": {
   "codemirror_mode": {
    "name": "ipython",
    "version": 3
   },
   "file_extension": ".py",
   "mimetype": "text/x-python",
   "name": "python",
   "nbconvert_exporter": "python",
   "pygments_lexer": "ipython3",
   "version": "3.8.2"
  }
 },
 "nbformat": 4,
 "nbformat_minor": 4
}
