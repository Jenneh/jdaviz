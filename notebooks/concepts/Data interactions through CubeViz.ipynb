{
 "cells": [
  {
   "cell_type": "markdown",
   "metadata": {},
   "source": [
    "# Interacting with data through the CubeViz application"
   ]
  },
  {
   "cell_type": "markdown",
   "metadata": {},
   "source": [
    "We first start the the application in the CubeViz configuration."
   ]
  },
  {
   "cell_type": "code",
   "execution_count": 1,
   "metadata": {},
   "outputs": [],
   "source": [
    "# Suppress warnings\n",
    "import warnings\n",
    "\n",
    "with warnings.catch_warnings():\n",
    "    warnings.simplefilter(\"ignore\")"
   ]
  },
  {
   "cell_type": "code",
   "execution_count": 2,
   "metadata": {
    "scrolled": false
   },
   "outputs": [
    {
     "name": "stderr",
     "output_type": "stream",
     "text": [
      "/Users/nearl/projects/glue/glue/external/echo/__init__.py:3: UserWarning: glue.external.echo is deprecated, import from echo directly instead\n",
      "  warnings.warn('glue.external.echo is deprecated, import from echo directly instead')\n"
     ]
    },
    {
     "data": {
      "application/vnd.jupyter.widget-view+json": {
       "model_id": "09d6a4f71f74454680cf4c16382f155c",
       "version_major": 2,
       "version_minor": 0
      },
      "text/plain": [
       "Application(components={'g-viewer-tab': '<template>\\n  <component :is=\"stack.container\">\\n    <g-viewer-tab\\n …"
      ]
     },
     "metadata": {},
     "output_type": "display_data"
    },
    {
     "name": "stderr",
     "output_type": "stream",
     "text": [
      "WARNING: UnitsWarning: '1E-17 erg/s/cm^2/Angstrom/spaxel' contains multiple slashes, which is discouraged by the FITS standard [astropy.units.format.generic]\n",
      "WARNING:astropy:UnitsWarning: '1E-17 erg/s/cm^2/Angstrom/spaxel' contains multiple slashes, which is discouraged by the FITS standard\n",
      "WARNING: PossiblySlowWarning: This function (<function BaseSpectralCube.mean at 0x1233a4b80>) requires loading the entire cube into memory and may therefore be slow. [spectral_cube.utils]\n",
      "WARNING:astropy:PossiblySlowWarning: This function (<function BaseSpectralCube.mean at 0x1233a4b80>) requires loading the entire cube into memory and may therefore be slow.\n"
     ]
    }
   ],
   "source": [
    "from astropy.utils.data import download_file\n",
    "\n",
    "from jdaviz.app import Application\n",
    "app = Application(configuration='cubeviz')\n",
    "app"
   ]
  },
  {
   "cell_type": "markdown",
   "metadata": {},
   "source": [
    "Next, we load an IFU cube data set. **Note** this does not yet auto-populate viewers, still investigtating heuristics on how to associate particular data sets with particular viewers."
   ]
  },
  {
   "cell_type": "code",
   "execution_count": 3,
   "metadata": {},
   "outputs": [],
   "source": [
    "# This file is originally from https://data.sdss.org/sas/dr14/manga/spectro/redux/v2_1_2/7495/stack/manga-7495-12704-LOGCUBE.fits.gz\n",
    "# but has been modified to correct some inconsistencies in the way units are parsed\n",
    "fn = download_file('https://stsci.box.com/shared/static/28a88k1qfipo4yxc4p4d40v4axtlal8y.fits', cache=True)\n",
    "app.load_data(fn)"
   ]
  },
  {
   "cell_type": "markdown",
   "metadata": {},
   "source": [
    "Before we can continue on, we manually set the data within each viewer. After having done that, we can gain access to the viewer of interest by the reference defined in the CubeViz `yaml` configuration file. In this case, we've defined each viewer as follows:\n",
    "\n",
    "\n",
    "```\n",
    "...\n",
    "viewer_area:\n",
    "  - container: col\n",
    "    children:\n",
    "      - container: row\n",
    "        viewers:\n",
    "          - name: Flux\n",
    "            plot: g-image-viewer\n",
    "            reference: flux-viewer\n",
    "          - name: Uncertainty\n",
    "            plot: g-image-viewer\n",
    "            reference: uncert-viewer\n",
    "          - name: Mask\n",
    "            plot: g-image-viewer\n",
    "            reference: mask-viewer\n",
    "      - container: row\n",
    "        viewers:\n",
    "          - name: Spectrum\n",
    "            plot: g-profile-viewer\n",
    "            reference: spectrum-viewer\n",
    "```\n",
    "\n",
    "Note the `reference` keyword that associated the viewer with a user-readable string name.\n",
    "\n",
    "Then, we can access the indivial viewer objects through the `get_viewer` method on the `app` instance:"
   ]
  },
  {
   "cell_type": "markdown",
   "metadata": {},
   "source": [
    "<div class=\"alert alert-block alert-info\">\n",
    "<b>User Task:</b> In the top left viewer in the CubeViz application (our `flux-viewer`), open the \"Data\" tab and plot the \"6de4c8ee5659e87a302e3de595074ba5[FLUX]\" data set by clicking the checkbox.\n",
    "</div>"
   ]
  },
  {
   "cell_type": "code",
   "execution_count": 4,
   "metadata": {},
   "outputs": [
    {
     "data": {
      "application/vnd.jupyter.widget-view+json": {
       "model_id": "6987fe9e202e4edd87d96671959a9360",
       "version_major": 2,
       "version_minor": 0
      },
      "text/plain": [
       "Html(children=[Toolbar(children=[ToolbarItems(children=[BasicJupyterToolbar(borderless=True, children=[Tooltip…"
      ]
     },
     "metadata": {},
     "output_type": "display_data"
    }
   ],
   "source": [
    "app.get_viewer('spectrum-viewer').show()"
   ]
  },
  {
   "cell_type": "markdown",
   "metadata": {},
   "source": [
    "We now load the data into the spectrum viewer manually using the current API by calling `set_viewer_data` and passing the viewer reference and data label."
   ]
  },
  {
   "cell_type": "code",
   "execution_count": 20,
   "metadata": {
    "scrolled": false
   },
   "outputs": [],
   "source": [
    "app.add_viewer_data('spectrum-viewer', '6de4c8ee5659e87a302e3de595074ba5[FLUX]')"
   ]
  },
  {
   "cell_type": "markdown",
   "metadata": {},
   "source": [
    "To retrieve particular data from a viewer, we use the `get_data` method, passing in the reference to the viewer of interest. Optionally, we can pass in a class that will be used in the conversion from the `glue` data objects. If no `cls` argument is set, it will fall back to the `default_class` attribute set on the viewer. In the case of the `cubeviz-spectrum-viewer`, this is a `Spectrum1D` object.\n",
    "\n",
    "Note that this returns all data currently plotted in the viewer."
   ]
  },
  {
   "cell_type": "code",
   "execution_count": 8,
   "metadata": {},
   "outputs": [
    {
     "name": "stderr",
     "output_type": "stream",
     "text": [
      "WARNING: UnitsWarning: '1E-17 erg/s/cm^2/Angstrom/spaxel' contains multiple slashes, which is discouraged by the FITS standard [astropy.units.format.generic]\n",
      "WARNING:astropy:UnitsWarning: '1E-17 erg/s/cm^2/Angstrom/spaxel' contains multiple slashes, which is discouraged by the FITS standard\n"
     ]
    },
    {
     "data": {
      "text/plain": [
       "<Spectrum1D(flux=<Quantity [0.06278672, 0.05465561, 0.0680534 , ..., 0.03141097, 0.05135   ,\n",
       "           0.        ] 1e-17 erg / (Angstrom cm2 s)>, spectral_axis=<SpectralCoord [3.62159598e-07, 3.62242998e-07, 3.62326418e-07, ...,\n",
       "                1.03490386e-06, 1.03514218e-06, 1.03538056e-06] m, \n",
       "\tradial_velocity=0.0 km / s, \n",
       "\tredshift=0.0, \n",
       "\tdoppler_rest=0.0 Angstrom, \n",
       "\tdoppler_convention=None, \n",
       "\tobserver=None, \n",
       "\ttarget=None>)>"
      ]
     },
     "execution_count": 8,
     "metadata": {},
     "output_type": "execute_result"
    }
   ],
   "source": [
    "from specutils import Spectrum1D\n",
    "\n",
    "spec_data = app.get_data_from_viewer('spectrum-viewer')\n",
    "\n",
    "# The returned data from `get_data` is in list format, as it's \n",
    "# possible for there to be several data plotted in the viewer\n",
    "spec = spec_data[0]\n",
    "spec"
   ]
  },
  {
   "cell_type": "markdown",
   "metadata": {},
   "source": [
    "Optionally, we can specify the label explicitly in the `get_viewer_data` call to retrieve a specific layer."
   ]
  },
  {
   "cell_type": "code",
   "execution_count": 10,
   "metadata": {},
   "outputs": [
    {
     "name": "stderr",
     "output_type": "stream",
     "text": [
      "WARNING: UnitsWarning: '1E-17 erg/s/cm^2/Angstrom/spaxel' contains multiple slashes, which is discouraged by the FITS standard [astropy.units.format.generic]\n",
      "WARNING:astropy:UnitsWarning: '1E-17 erg/s/cm^2/Angstrom/spaxel' contains multiple slashes, which is discouraged by the FITS standard\n"
     ]
    },
    {
     "data": {
      "text/plain": [
       "<Spectrum1D(flux=<Quantity [0.06278672, 0.05465561, 0.0680534 , ..., 0.03141097, 0.05135   ,\n",
       "           0.        ] 1e-17 erg / (Angstrom cm2 s)>, spectral_axis=<SpectralCoord [3.62159598e-07, 3.62242998e-07, 3.62326418e-07, ...,\n",
       "                1.03490386e-06, 1.03514218e-06, 1.03538056e-06] m, \n",
       "\tradial_velocity=0.0 km / s, \n",
       "\tredshift=0.0, \n",
       "\tdoppler_rest=0.0 Angstrom, \n",
       "\tdoppler_convention=None, \n",
       "\tobserver=None, \n",
       "\ttarget=None>)>"
      ]
     },
     "execution_count": 10,
     "metadata": {},
     "output_type": "execute_result"
    }
   ],
   "source": [
    "spec = app.get_data_from_viewer('spectrum-viewer', '6de4c8ee5659e87a302e3de595074ba5[FLUX]')\n",
    "spec"
   ]
  },
  {
   "cell_type": "markdown",
   "metadata": {},
   "source": [
    "We then import some analysis or manipulation fuction we want to perform over the extracted spectral data in the previous cell."
   ]
  },
  {
   "cell_type": "code",
   "execution_count": 11,
   "metadata": {},
   "outputs": [],
   "source": [
    "from specutils.manipulation import box_smooth\n",
    "\n",
    "smoothed_spec = box_smooth(spec, 5)"
   ]
  },
  {
   "cell_type": "markdown",
   "metadata": {},
   "source": [
    "Once we have the results from our manipulation/analysis function, we can insert the data into the appropriate viewer using the `add_data` method on the `app` object and passing in the requisite viewer reference."
   ]
  },
  {
   "cell_type": "code",
   "execution_count": 12,
   "metadata": {},
   "outputs": [],
   "source": [
    "# This is necessary since the wcs is not being auto-linked in the manga data. If\n",
    "#  we don't unset the previous data set, the new data won't be shown on the plot.\n",
    "app.remove_viewer_data('spectrum-viewer', '6de4c8ee5659e87a302e3de595074ba5[FLUX]')"
   ]
  },
  {
   "cell_type": "code",
   "execution_count": 13,
   "metadata": {},
   "outputs": [],
   "source": [
    "app.add_data(smoothed_spec, name=\"Smooth Spectrum\")"
   ]
  },
  {
   "cell_type": "code",
   "execution_count": 14,
   "metadata": {},
   "outputs": [],
   "source": [
    "app.add_viewer_data('spectrum-viewer', 'Smooth Spectrum')"
   ]
  },
  {
   "cell_type": "markdown",
   "metadata": {},
   "source": [
    "## Retriving manipulated data products\n",
    "\n",
    "Here, we'll go back up to the CubeViz application and use the collapse plugin to create a 2D data product from within the application. Afterward, we plot it in the `flux-viewer` viewer and then we can retrieve and view the data below in both the glue-jupyter image viewer as well as retrieving and the data and showing it in a matplotlib plot."
   ]
  },
  {
   "cell_type": "markdown",
   "metadata": {},
   "source": [
    "<div class=\"alert alert-block alert-info\">\n",
    "<b>User Task:</b> In the CubeViz application at the top, select the \"Collapse\" button in the toolbar and collapse the \"6de4c8ee5659e87a302e3de595074ba5[FLUX]\" data set along the 0th axis to create a 2D image.\n",
    "    \n",
    "Next, in the top-left viewer (our `flux-viewer`), uncheck any currently plotted data and scroll to the bottom to click the checkbox next to \"Collapsed manga-7495-12704-LOGCUBE[FLUX]\" to plot the 2D image.\n",
    "</div>"
   ]
  },
  {
   "cell_type": "code",
   "execution_count": 15,
   "metadata": {},
   "outputs": [
    {
     "data": {
      "application/vnd.jupyter.widget-view+json": {
       "model_id": "8456c5deeb2645e381580bf686da2885",
       "version_major": 2,
       "version_minor": 0
      },
      "text/plain": [
       "Html(children=[Toolbar(children=[ToolbarItems(children=[BasicJupyterToolbar(borderless=True, children=[Tooltip…"
      ]
     },
     "metadata": {},
     "output_type": "display_data"
    }
   ],
   "source": [
    "# Show the current flux viewer\n",
    "app.get_viewer('flux-viewer').show()"
   ]
  },
  {
   "cell_type": "code",
   "execution_count": 19,
   "metadata": {},
   "outputs": [
    {
     "data": {
      "text/plain": [
       "<matplotlib.image.AxesImage at 0x138a138e0>"
      ]
     },
     "execution_count": 19,
     "metadata": {},
     "output_type": "execute_result"
    },
    {
     "data": {
      "image/png": "[encoded data removed]",
      "text/plain": [
       "<Figure size 432x288 with 1 Axes>"
      ]
     },
     "metadata": {
      "needs_background": "light"
     },
     "output_type": "display_data"
    }
   ],
   "source": [
    "import matplotlib.pyplot as plt\n",
    "\n",
    "# The returned data object is a `CCData` class to represent the 2D nature of the image data.\n",
    "image_data = app.get_data_from_viewer('flux-viewer')\n",
    "\n",
    "f, ax = plt.subplots()\n",
    "\n",
    "ax.imshow(image_data[0], origin='center')"
   ]
  },
  {
   "cell_type": "code",
   "execution_count": null,
   "metadata": {},
   "outputs": [],
   "source": []
  }
 ],
 "metadata": {
  "kernelspec": {
   "display_name": "Python 3",
   "language": "python",
   "name": "python3"
  },
  "language_info": {
   "codemirror_mode": {
    "name": "ipython",
    "version": 3
   },
   "file_extension": ".py",
   "mimetype": "text/x-python",
   "name": "python",
   "nbconvert_exporter": "python",
   "pygments_lexer": "ipython3",
   "version": "3.8.2"
  }
 },
 "nbformat": 4,
 "nbformat_minor": 4
}
