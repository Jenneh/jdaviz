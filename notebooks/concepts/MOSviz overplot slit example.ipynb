{
 "cells": [
  {
   "cell_type": "markdown",
   "metadata": {},
   "source": [
    "# Load jdaviz app in mosviz configuration"
   ]
  },
  {
   "cell_type": "code",
   "execution_count": 1,
   "metadata": {
    "scrolled": false
   },
   "outputs": [
    {
     "name": "stderr",
     "output_type": "stream",
     "text": [
      "/Users/javerbukh/anaconda3/envs/mosviz_slits/lib/python3.8/site-packages/glue/external/echo/__init__.py:3: UserWarning: glue.external.echo is deprecated, import from echo directly instead\n",
      "  warnings.warn('glue.external.echo is deprecated, import from echo directly instead')\n"
     ]
    }
   ],
   "source": [
    "from jdaviz.configs.mosviz.helper import MosViz"
   ]
  },
  {
   "cell_type": "code",
   "execution_count": 2,
   "metadata": {
    "scrolled": false
   },
   "outputs": [
    {
     "data": {
      "application/vnd.jupyter.widget-view+json": {
       "model_id": "9f56a9e5911d4ee4ac0072c49f0de7ae",
       "version_major": 2,
       "version_minor": 0
      },
      "text/plain": [
       "Application(components={'g-viewer-tab': '<template>\\n  <component :is=\"stack.container\">\\n    <g-viewer-tab\\n …"
      ]
     },
     "metadata": {},
     "output_type": "display_data"
    },
    {
     "name": "stdout",
     "output_type": "stream",
     "text": [
      "######## Creating slit ##########\n",
      "Region: RectangleSkyRegion\n",
      "center: <SkyCoord (ICRS): (ra, dec) in deg\n",
      "    (5.02937461, 4.99231143)>\n",
      "width: 0.0003143089999999251 deg\n",
      "height: 0.00027603191980735836 deg\n",
      "angle: 0.0 deg\n",
      "Region: RectanglePixelRegion\n",
      "center: PixCoord(x=26.8950023499973, y=27.15215822706557)\n",
      "width: 20.702439742706986\n",
      "height: 18.18126171021805\n",
      "angle: -0.0012081143855250571 deg\n",
      "[16.5435908  37.24603054 37.2464139  16.54397416] [18.06174564 18.06130911 36.24257082 36.24300734] {'x': LinearScale(allow_padding=False, max=54.5, min=-0.5), 'y': LinearScale(max=54.5, min=-0.5)}\n",
      "######## Creating slit ##########\n",
      "Region: RectangleSkyRegion\n",
      "center: <SkyCoord (ICRS): (ra, dec) in deg\n",
      "    (5.02534269, 4.99631851)>\n",
      "width: 0.00031283700000154434 deg\n",
      "height: 0.0002747212250374412 deg\n",
      "angle: 0.0 deg\n",
      "Region: RectanglePixelRegion\n",
      "center: PixCoord(x=291.45982150873124, y=291.0794765979534)\n",
      "width: 20.605483527326957\n",
      "height: 18.094930193960856\n",
      "angle: -0.000856538313740242 deg\n",
      "[281.15694449 301.76242802 301.76269853 281.157215  ] [282.03216552 282.03185748 300.12678767 300.12709571] {'x': LinearScale(allow_padding=False, max=54.5, min=-0.5), 'y': LinearScale(max=54.5, min=-0.5)}\n"
     ]
    }
   ],
   "source": [
    "mosviz = MosViz()\n",
    "mosviz.app"
   ]
  },
  {
   "cell_type": "markdown",
   "metadata": {},
   "source": [
    "## Load data"
   ]
  },
  {
   "cell_type": "code",
   "execution_count": 3,
   "metadata": {
    "scrolled": true
   },
   "outputs": [
    {
     "name": "stderr",
     "output_type": "stream",
     "text": [
      "WARNING:root:No 'BUNIT' defined in the header, using 'Jy'.\n",
      "WARNING:root:No 'BUNIT' defined in the header, using 'Jy'.\n",
      "WARNING:root:No 'BUNIT' defined in the header, using 'Jy'.\n",
      "WARNING:root:No 'BUNIT' defined in the header, using 'Jy'.\n",
      "WARNING:root:No 'BUNIT' defined in the header, using 'Jy'.\n"
     ]
    },
    {
     "name": "stdout",
     "output_type": "stream",
     "text": [
      "Header keys of file: /Users/javerbukh/Documents/data_for_mosviz/mosviz_nirspec_data_0.3/level3/mosviz_cutouts/227.fits\n",
      "\t'SIMPLE': True,\n",
      "\t'BITPIX': -64,\n",
      "\t'NAXIS': 2,\n",
      "\t'NAXIS1': 55,\n",
      "\t'NAXIS2': 55,\n",
      "\t'EXTEND': True,\n",
      "\t'WCSAXES': 2,\n",
      "\t'CRPIX1': 937.0,\n",
      "\t'CRPIX2': 696.0,\n",
      "\t'CDELT1': -1.5182221158397e-05,\n",
      "\t'CDELT2': 1.5182221158397e-05,\n",
      "\t'CUNIT1': deg,\n",
      "\t'CUNIT2': deg,\n",
      "\t'CTYPE1': RA---TAN,\n",
      "\t'CTYPE2': DEC--TAN,\n",
      "\t'CRVAL1': 5.0155198140981,\n",
      "\t'CRVAL2': 5.002450989248,\n",
      "\t'LONPOLE': 180.0,\n",
      "\t'LATPOLE': 5.002450989248,\n",
      "\t'DATEREF': 1858-11-17,\n",
      "\t'MJDREFI': 0.0,\n",
      "\t'MJDREFF': 0.0,\n",
      "\t'RADESYS': ICRS,\n",
      "\t'OBJ_RA': 5.029374606669549,\n",
      "\t'OBJ_DEC': 4.9923114303282,\n",
      "Header keys of file: /Users/javerbukh/Documents/data_for_mosviz/mosviz_nirspec_data_0.3/level3/mosviz_cutouts/227.fits\n",
      "\t'SIMPLE': True,\n",
      "\t'BITPIX': -64,\n",
      "\t'NAXIS': 2,\n",
      "\t'NAXIS1': 55,\n",
      "\t'NAXIS2': 55,\n",
      "\t'EXTEND': True,\n",
      "\t'WCSAXES': 2,\n",
      "\t'CRPIX1': 937.0,\n",
      "\t'CRPIX2': 696.0,\n",
      "\t'CDELT1': -1.5182221158397e-05,\n",
      "\t'CDELT2': 1.5182221158397e-05,\n",
      "\t'CUNIT1': deg,\n",
      "\t'CUNIT2': deg,\n",
      "\t'CTYPE1': RA---TAN,\n",
      "\t'CTYPE2': DEC--TAN,\n",
      "\t'CRVAL1': 5.0155198140981,\n",
      "\t'CRVAL2': 5.002450989248,\n",
      "\t'LONPOLE': 180.0,\n",
      "\t'LATPOLE': 5.002450989248,\n",
      "\t'DATEREF': 1858-11-17,\n",
      "\t'MJDREFI': 0.0,\n",
      "\t'MJDREFF': 0.0,\n",
      "\t'RADESYS': ICRS,\n",
      "\t'OBJ_RA': 5.029374606669549,\n",
      "\t'OBJ_DEC': 4.9923114303282,\n",
      "Header keys of file: /Users/javerbukh/Documents/data_for_mosviz/mosviz_nirspec_data_0.3/level3/mosviz_cutouts/227.fits\n",
      "\t'SIMPLE': True,\n",
      "\t'BITPIX': -64,\n",
      "\t'NAXIS': 2,\n",
      "\t'NAXIS1': 55,\n",
      "\t'NAXIS2': 55,\n",
      "\t'EXTEND': True,\n",
      "\t'WCSAXES': 2,\n",
      "\t'CRPIX1': 937.0,\n",
      "\t'CRPIX2': 696.0,\n",
      "\t'CDELT1': -1.5182221158397e-05,\n",
      "\t'CDELT2': 1.5182221158397e-05,\n",
      "\t'CUNIT1': deg,\n",
      "\t'CUNIT2': deg,\n",
      "\t'CTYPE1': RA---TAN,\n",
      "\t'CTYPE2': DEC--TAN,\n",
      "\t'CRVAL1': 5.0155198140981,\n",
      "\t'CRVAL2': 5.002450989248,\n",
      "\t'LONPOLE': 180.0,\n",
      "\t'LATPOLE': 5.002450989248,\n",
      "\t'DATEREF': 1858-11-17,\n",
      "\t'MJDREFI': 0.0,\n",
      "\t'MJDREFF': 0.0,\n",
      "\t'RADESYS': ICRS,\n",
      "\t'OBJ_RA': 5.029374606669549,\n",
      "\t'OBJ_DEC': 4.9923114303282,\n",
      "Header keys of file: /Users/javerbukh/Documents/data_for_mosviz/mosviz_nirspec_data_0.3/level3/mosviz_cutouts/227.fits\n",
      "\t'SIMPLE': True,\n",
      "\t'BITPIX': -64,\n",
      "\t'NAXIS': 2,\n",
      "\t'NAXIS1': 55,\n",
      "\t'NAXIS2': 55,\n",
      "\t'EXTEND': True,\n",
      "\t'WCSAXES': 2,\n",
      "\t'CRPIX1': 937.0,\n",
      "\t'CRPIX2': 696.0,\n",
      "\t'CDELT1': -1.5182221158397e-05,\n",
      "\t'CDELT2': 1.5182221158397e-05,\n",
      "\t'CUNIT1': deg,\n",
      "\t'CUNIT2': deg,\n",
      "\t'CTYPE1': RA---TAN,\n",
      "\t'CTYPE2': DEC--TAN,\n",
      "\t'CRVAL1': 5.0155198140981,\n",
      "\t'CRVAL2': 5.002450989248,\n",
      "\t'LONPOLE': 180.0,\n",
      "\t'LATPOLE': 5.002450989248,\n",
      "\t'DATEREF': 1858-11-17,\n",
      "\t'MJDREFI': 0.0,\n",
      "\t'MJDREFF': 0.0,\n",
      "\t'RADESYS': ICRS,\n",
      "\t'OBJ_RA': 5.029374606669549,\n",
      "\t'OBJ_DEC': 4.9923114303282,\n",
      "Header keys of file: /Users/javerbukh/Documents/data_for_mosviz/mosviz_nirspec_data_0.3/level3/mosviz_cutouts/227.fits\n",
      "\t'SIMPLE': True,\n",
      "\t'BITPIX': -64,\n",
      "\t'NAXIS': 2,\n",
      "\t'NAXIS1': 55,\n",
      "\t'NAXIS2': 55,\n",
      "\t'EXTEND': True,\n",
      "\t'WCSAXES': 2,\n",
      "\t'CRPIX1': 937.0,\n",
      "\t'CRPIX2': 696.0,\n",
      "\t'CDELT1': -1.5182221158397e-05,\n",
      "\t'CDELT2': 1.5182221158397e-05,\n",
      "\t'CUNIT1': deg,\n",
      "\t'CUNIT2': deg,\n",
      "\t'CTYPE1': RA---TAN,\n",
      "\t'CTYPE2': DEC--TAN,\n",
      "\t'CRVAL1': 5.0155198140981,\n",
      "\t'CRVAL2': 5.002450989248,\n",
      "\t'LONPOLE': 180.0,\n",
      "\t'LATPOLE': 5.002450989248,\n",
      "\t'DATEREF': 1858-11-17,\n",
      "\t'MJDREFI': 0.0,\n",
      "\t'MJDREFF': 0.0,\n",
      "\t'RADESYS': ICRS,\n",
      "\t'OBJ_RA': 5.029374606669549,\n",
      "\t'OBJ_DEC': 4.9923114303282,\n"
     ]
    }
   ],
   "source": [
    "\n",
    "cutout_image_file = \"/Users/javerbukh/Documents/data_for_mosviz/mosviz_nirspec_data_0.3/level3/mosviz_cutouts/227.fits\"\n",
    "import glob\n",
    "\n",
    "spectra_1d = []\n",
    "spectra_2d = []\n",
    "images = []\n",
    "\n",
    "\n",
    "for file_path in glob.glob(\"/Users/javerbukh/Documents/data_for_mosviz/mosviz_nirspec_data_0.3/level3/*\"):\n",
    "    if 'x1d' in file_path:\n",
    "        spectra_1d.append(file_path)\n",
    "    elif 's2d' in file_path:\n",
    "        spectra_2d.append(file_path)\n",
    "        \n",
    "        \n",
    "for i in range(len(spectra_1d)):\n",
    "    images.append(\"/Users/javerbukh/Documents/data_for_mosviz/mosviz_nirspec_data_0.3/level3/mosviz_cutouts/227.fits\")\n",
    "\n",
    "mosviz.load_1d_spectra(spectra_1d)\n",
    "mosviz.load_2d_spectra(spectra_2d)\n",
    "mosviz.load_images(images)"
   ]
  },
  {
   "cell_type": "markdown",
   "metadata": {},
   "source": [
    "### Set image viewer (top left) to visualize cutout 227.fits"
   ]
  },
  {
   "cell_type": "code",
   "execution_count": null,
   "metadata": {},
   "outputs": [],
   "source": [
    "fig_image = mosviz.app.get_viewer(\"image-viewer\").data()\n",
    "fig_image[0].meta\n",
    "\n",
    "from astropy.wcs import WCS\n",
    "\n",
    "image_data = mosviz.app.get_viewer(\"image-viewer\").data()\n",
    "spec2d_data = mosviz.app.get_viewer(\"spectrum-2d-viewer\").data()\n",
    "\n",
    "s_region = spec2d_data[0].meta['S_REGION']\n",
    "# wcs_image = WCS(fig_image[0].meta, naxis=2)\n",
    "\n",
    "header_copy = spec2d_data[0].meta\n",
    "header_copy['WCSAXES'] = 2\n",
    "for key in spec2d_data[0].meta:\n",
    "    if '3' in key:\n",
    "        header_copy.remove(key)\n",
    "wcs_image = WCS(header_copy, naxis=2)\n",
    "#wcs_image.celestial\n",
    "print(\"celestial: {}\".format(wcs_image))\n",
    "\n",
    "sky_region = jwst_header_to_skyregion(s_region)\n",
    "\n",
    "print(sky_region)\n",
    "\n",
    "#####\n",
    "pixel_region = sky_region.to_pixel(wcs_image)\n",
    "\n",
    "print(pixel_region)\n"
   ]
  },
  {
   "cell_type": "code",
   "execution_count": null,
   "metadata": {},
   "outputs": [],
   "source": [
    "fig_image = mosviz.app.get_viewer(\"image-viewer\").data()\n",
    "image = mosviz.app.data_collection[fig_image[0].label].get_object()\n",
    "print([x for x in fig_image[0].meta])\n",
    "#print(fig_image[0].meta)\n",
    "image.wcs.keys = image.meta.keys()\n",
    "print(image.wcs)\n",
    "wcs = WCS(image.wcs)"
   ]
  },
  {
   "cell_type": "code",
   "execution_count": null,
   "metadata": {},
   "outputs": [],
   "source": [
    "mosviz.app.data_collection[13].get_object().meta"
   ]
  },
  {
   "cell_type": "code",
   "execution_count": null,
   "metadata": {},
   "outputs": [],
   "source": [
    "for x in mosviz.app.get_data_from_viewer(\"spectrum-2d-viewer\"):\n",
    "    print(x)\n",
    "    if x in mosviz.app.data_collection:\n",
    "        print(dir(mosviz.app.data_collection[x]))\n",
    "        print(mosviz.app.data_collection[x].external_links())"
   ]
  },
  {
   "cell_type": "code",
   "execution_count": null,
   "metadata": {},
   "outputs": [],
   "source": [
    "import bqplot\n",
    "from regions import RectanglePixelRegion, PixCoord\n",
    "from ipywidgets import VBox\n",
    "import numpy as np\n",
    "from bqplot import *\n",
    "\n",
    "def region_to_vertices(region):\n",
    "    p = region.to_polygon()\n",
    "    return p.vertices.x, p.vertices.y"
   ]
  },
  {
   "cell_type": "markdown",
   "metadata": {},
   "source": [
    "# Extract slit data from files and visualize"
   ]
  },
  {
   "cell_type": "code",
   "execution_count": null,
   "metadata": {},
   "outputs": [],
   "source": [
    "# Load 2d spectrum data on the right image viewer\n",
    "spectrum_2d_file = \"/Users/javerbukh/Documents/data_for_mosviz/mosviz_nirspec_data_0.3/level3/f170lp-g235m_mos_observation-6-c0e0_s00227_cal.fits\"\n",
    "# app.load_data(spectrum_2d_file)"
   ]
  },
  {
   "cell_type": "code",
   "execution_count": null,
   "metadata": {},
   "outputs": [],
   "source": [
    "spectrum_2d_file = \"/Users/javerbukh/Documents/data_for_mosviz/mosviz_nirspec_data_0.3/level3/f170lp-g235m_mos_observation-6-c0e0_s00482_s2d.fits\"\n",
    "from astropy.io import fits\n",
    "hdu = fits.open(spectrum_2d_file)\n",
    "header = hdu[1].header\n",
    "[print(x) for x in header]"
   ]
  },
  {
   "cell_type": "markdown",
   "metadata": {},
   "source": [
    "### Set 2D Spectrum viewer (top right) to visualize f170lp-g235m_mos_observation-6-c0e0_s00227_cal.fits"
   ]
  },
  {
   "cell_type": "code",
   "execution_count": null,
   "metadata": {},
   "outputs": [],
   "source": [
    "fig_2d = mosviz.app.get_viewer(\"spectrum-2d-viewer\").figure"
   ]
  },
  {
   "cell_type": "code",
   "execution_count": null,
   "metadata": {},
   "outputs": [],
   "source": [
    "from astropy.io import fits\n",
    "hdu = fits.open(spectrum_2d_file)\n",
    "header = hdu[1].header\n",
    "[print(x) for x in header]"
   ]
  },
  {
   "cell_type": "code",
   "execution_count": null,
   "metadata": {},
   "outputs": [],
   "source": [
    "# Code to create SkyRegions\n",
    "\n",
    "from regions import  RectangleSkyRegion,RectanglePixelRegion\n",
    "from astropy.coordinates import Angle, SkyCoord\n",
    "from astropy import units as u \n",
    "from astropy.wcs import WCS\n",
    "def jwst_header_to_skyregion(s_region):\n",
    "    #s_region = header['S_REGION']\n",
    "    footprint = s_region.split(\"POLYGON ICRS\")[1].split()\n",
    "    ra = np.array(footprint[::2], dtype=np.float)\n",
    "    dec = np.array(footprint[1::2], dtype=np.float)\n",
    "        \n",
    "    # Find center of slit\n",
    "    cra = (max(ra) + min(ra))/2 \n",
    "    cdec = (max(dec) + min(dec))/2\n",
    "    \n",
    "    # Find center as skycoord\n",
    "    skycoord = SkyCoord(cra, cdec,\n",
    "                        unit=(u.Unit(u.deg),\n",
    "                              u.Unit(u.deg)))\n",
    "    \n",
    "    # Puts corners of slit into skycoord object\n",
    "    corners = SkyCoord(ra, dec, unit=\"deg\")\n",
    "    \n",
    "    # Compute length and width\n",
    "    length = corners[0].separation(corners[1])\n",
    "    width = corners[1].separation(corners[2])\n",
    "    length = Angle(length, u.deg)\n",
    "    width = Angle(width, u.deg)\n",
    "    \n",
    "    skyregion = RectangleSkyRegion(center=skycoord, width=width, height=length)\n",
    "    return skyregion"
   ]
  },
  {
   "cell_type": "code",
   "execution_count": null,
   "metadata": {},
   "outputs": [],
   "source": [
    "# Set WCS\n",
    "\n",
    "sky_region = jwst_header_to_skyregion(header)\n",
    "header_copy = header.copy()\n",
    "header_copy['WCSAXES'] = 2\n",
    "for key in header:\n",
    "    if '3' in key:\n",
    "        header_copy.remove(key)\n",
    "wcs_2d = WCS(header_copy)\n"
   ]
  },
  {
   "cell_type": "code",
   "execution_count": null,
   "metadata": {},
   "outputs": [],
   "source": [
    "# Use wcs of image viewer to scale slit dimensions correctly\n",
    "image_hdu = fits.open(cutout_image_file)\n",
    "wcs_image = WCS(image_hdu[0].header)\n",
    "\n",
    "pixel_region = sky_region.to_pixel(wcs_image)\n"
   ]
  },
  {
   "cell_type": "code",
   "execution_count": null,
   "metadata": {},
   "outputs": [],
   "source": [
    "# Create polygon region from the pixel region and set vertices\n",
    "pix_rec = pixel_region.to_polygon()\n",
    "\n",
    "x_coords = pix_rec.vertices.x\n",
    "y_coords = pix_rec.vertices.y\n",
    "\n",
    "# Create LinearScale that is the same size as the image viewer\n",
    "scales={'x': fig_image.interaction.x_scale, 'y':fig_image.interaction.y_scale}\n",
    "\n",
    "# Create slit\n",
    "patch2 = bqplot.Lines(x=x_coords, y=y_coords, scales=scales, fill='none', colors = [\"red\"], stroke_width=2, close_path=True)\n",
    "\n",
    "# Visualize slit on the figure\n",
    "fig_image.marks = fig_image.marks + [patch2]\n",
    "fig_image\n",
    "\n",
    "print(x_coords, y_coords, scales)"
   ]
  },
  {
   "cell_type": "code",
   "execution_count": null,
   "metadata": {},
   "outputs": [],
   "source": [
    "fig_image = mosviz.app.get_viewer(\"image-viewer\").figure\n",
    "print(fig_image.interaction)"
   ]
  },
  {
   "cell_type": "code",
   "execution_count": null,
   "metadata": {},
   "outputs": [],
   "source": []
  }
 ],
 "metadata": {
  "kernelspec": {
   "display_name": "Python 3",
   "language": "python",
   "name": "python3"
  },
  "language_info": {
   "codemirror_mode": {
    "name": "ipython",
    "version": 3
   },
   "file_extension": ".py",
   "mimetype": "text/x-python",
   "name": "python",
   "nbconvert_exporter": "python",
   "pygments_lexer": "ipython3",
   "version": "3.8.5"
  }
 },
 "nbformat": 4,
 "nbformat_minor": 2
}
